{
 "cells": [
  {
   "cell_type": "code",
   "execution_count": 14,
   "metadata": {},
   "outputs": [],
   "source": [
    "import pandas as pd\n",
    "import os\n",
    "from google.cloud import bigquery\n",
    "import seaborn as sns\n",
    "import numpy as np\n",
    "import pickle"
   ]
  },
  {
   "cell_type": "markdown",
   "metadata": {},
   "source": [
    "# 1. Big query data gathering"
   ]
  },
  {
   "cell_type": "markdown",
   "metadata": {},
   "source": [
    "First you need to go to \n",
    "https://cloud.google.com/docs/authentication/getting-started to set up an account and an API key. Follow the instructions and then \n",
    "    replace the link below with the JSON file that gets downloaded. "
   ]
  },
  {
   "cell_type": "markdown",
   "metadata": {},
   "source": [
    "- randomly sample 2 million rows from 2016 data. \n",
    "- Compute time bewteen pickup and dropoff."
   ]
  },
  {
   "cell_type": "code",
   "execution_count": 7,
   "metadata": {},
   "outputs": [],
   "source": [
    "pd.set_option('display.max_columns', 500)\n",
    "os.environ[\"GOOGLE_APPLICATION_CREDENTIALS\"]=\"/Users/liyannie/Desktop/Sp_2019_courses/DS_Indus/project/My_First_Project-1cc8e6bacdcb.json\""
   ]
  },
  {
   "cell_type": "code",
   "execution_count": 4,
   "metadata": {},
   "outputs": [],
   "source": [
    "# calculate trip time in seconds\n",
    "# randomly sample 2 million rows\n",
    "\n",
    "query1 = (\n",
    "    \"\"\"\n",
    "    SELECT * FROM \n",
    "    (\n",
    "    SELECT *,\n",
    "    TIMESTAMP_DIFF( dropoff_datetime, pickup_datetime, SECOND) as travel_time,\n",
    "    EXTRACT (DATE FROM pickup_datetime) as date_of_year,\n",
    "    EXTRACT (DAY FROM pickup_datetime) as day_of_year,\n",
    "    EXTRACT (MONTH FROM pickup_datetime) as month_of_year,\n",
    "    EXTRACT (YEAR FROM pickup_datetime) as year_of_year\n",
    "    FROM `bigquery-public-data.new_york.tlc_yellow_trips_2016` \n",
    "    ORDER BY RAND()\n",
    "    LIMIT 2000000) a \n",
    "    INNER JOIN\n",
    "    (\n",
    "    select concat(year,'-',mo,'-',da) as date_of_year2,year,mo,da,temp,visib,wdsp,gust,max,min,prcp,sndp,fog,rain_drizzle,snow_ice_pellets,hail,thunder\n",
    "    from `bigquery-public-data.noaa_gsod.gsod2016` where stn='725053'\n",
    "    ) weather_data\n",
    "    on CAST(a.date_of_year AS STRING) = weather_data.date_of_year2\n",
    "    \"\"\"\n",
    ")"
   ]
  },
  {
   "cell_type": "code",
   "execution_count": 5,
   "metadata": {},
   "outputs": [],
   "source": [
    "df1=pd.read_gbq(query1,dialect='standard')"
   ]
  },
  {
   "cell_type": "code",
   "execution_count": 8,
   "metadata": {},
   "outputs": [],
   "source": [
    "df1.to_pickle(\"/Users/liyannie/Desktop/Sp_2019_courses/DS_Indus/project/df1.pkl\")"
   ]
  }
 ],
 "metadata": {
  "kernelspec": {
   "display_name": "Python 3",
   "language": "python",
   "name": "python3"
  },
  "language_info": {
   "codemirror_mode": {
    "name": "ipython",
    "version": 3
   },
   "file_extension": ".py",
   "mimetype": "text/x-python",
   "name": "python",
   "nbconvert_exporter": "python",
   "pygments_lexer": "ipython3",
   "version": "3.7.2"
  }
 },
 "nbformat": 4,
 "nbformat_minor": 2
}
