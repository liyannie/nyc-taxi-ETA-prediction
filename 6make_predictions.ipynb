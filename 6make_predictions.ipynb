{
 "cells": [
  {
   "cell_type": "code",
   "execution_count": 58,
   "metadata": {},
   "outputs": [],
   "source": [
    "import pandas as pd\n",
    "import os\n",
    "from google.cloud import bigquery\n",
    "import seaborn as sns\n",
    "import numpy as np\n",
    "import pickle\n",
    "from joblib import dump, load\n",
    "import warnings\n",
    "from geopy.distance import great_circle"
   ]
  },
  {
   "cell_type": "code",
   "execution_count": 49,
   "metadata": {},
   "outputs": [],
   "source": [
    "taxi = pd.read_pickle(\"/Users/liyannie/Desktop/Sp_2019_courses/DS_Indus/project/liyan/df1.pkl\")\n",
    "final_test = pd.read_csv(\"/Users/liyannie/Desktop/Sp_2019_courses/DS_Indus/project/APM4990_final_test_data_filtered.csv\")\n",
    "weather15 = pd.read_pickle(\"/Users/liyannie/Desktop/Sp_2019_courses/DS_Indus/project/weather15.pkl\")"
   ]
  },
  {
   "cell_type": "markdown",
   "metadata": {},
   "source": [
    "# Query weather 2015 data"
   ]
  },
  {
   "cell_type": "code",
   "execution_count": 2,
   "metadata": {},
   "outputs": [],
   "source": [
    "pd.set_option('display.max_columns', 500)\n",
    "os.environ[\"GOOGLE_APPLICATION_CREDENTIALS\"]=\"/Users/liyannie/Desktop/Sp_2019_courses/DS_Indus/project/My_First_Project-1cc8e6bacdcb.json\""
   ]
  },
  {
   "cell_type": "code",
   "execution_count": 3,
   "metadata": {},
   "outputs": [],
   "source": [
    "# get 2015 weather data for final_test\n",
    "query1 = (\n",
    "    \"\"\"\n",
    "    SELECT concat(year,'-',mo,'-',da) as date_of_year, mo,da,temp,visib,wdsp,gust,max,min,prcp,fog,rain_drizzle,snow_ice_pellets\n",
    "    FROM `bigquery-public-data.noaa_gsod.gsod2015` where stn='725053'\n",
    "    \"\"\"\n",
    ")"
   ]
  },
  {
   "cell_type": "code",
   "execution_count": 5,
   "metadata": {},
   "outputs": [],
   "source": [
    "weather15=pd.read_gbq(query1,dialect='standard')"
   ]
  },
  {
   "cell_type": "code",
   "execution_count": 6,
   "metadata": {},
   "outputs": [],
   "source": [
    "weather15.to_pickle(\"/Users/liyannie/Desktop/Sp_2019_courses/DS_Indus/project/weather15.pkl\")"
   ]
  },
  {
   "cell_type": "markdown",
   "metadata": {},
   "source": [
    "# Combine with final test set"
   ]
  },
  {
   "cell_type": "code",
   "execution_count": 50,
   "metadata": {},
   "outputs": [],
   "source": [
    "final_test['pickup_datetime'] = pd.to_datetime(final_test['pickup_datetime'])"
   ]
  },
  {
   "cell_type": "code",
   "execution_count": 51,
   "metadata": {},
   "outputs": [],
   "source": [
    "final_test.loc[:, 'date_of_year'] = final_test['pickup_datetime'].dt.date\n",
    "final_test.loc[:, 'hour_of_day'] = final_test['pickup_datetime'].dt.hour\n",
    "final_test.loc[:, 'day_of_week'] = final_test['pickup_datetime'].dt.dayofweek"
   ]
  },
  {
   "cell_type": "code",
   "execution_count": 52,
   "metadata": {},
   "outputs": [],
   "source": [
    "final_test['date_of_year'] = final_test['date_of_year'].astype(str)"
   ]
  },
  {
   "cell_type": "code",
   "execution_count": 53,
   "metadata": {},
   "outputs": [],
   "source": [
    "final_test = pd.merge(final_test, weather15, on='date_of_year')"
   ]
  },
  {
   "cell_type": "code",
   "execution_count": 54,
   "metadata": {},
   "outputs": [
    {
     "data": {
      "text/plain": [
       "(694047, 21)"
      ]
     },
     "execution_count": 54,
     "metadata": {},
     "output_type": "execute_result"
    }
   ],
   "source": [
    "final_test.shape"
   ]
  },
  {
   "cell_type": "code",
   "execution_count": 55,
   "metadata": {},
   "outputs": [
    {
     "data": {
      "text/plain": [
       "Index(['pickup_datetime', 'pickup_latitude', 'pickup_longitude',\n",
       "       'dropoff_latitude', 'dropoff_longitude', 'passenger_count',\n",
       "       'date_of_year', 'hour_of_day', 'day_of_week', 'mo', 'da', 'temp',\n",
       "       'visib', 'wdsp', 'gust', 'max', 'min', 'prcp', 'fog', 'rain_drizzle',\n",
       "       'snow_ice_pellets'],\n",
       "      dtype='object')"
      ]
     },
     "execution_count": 55,
     "metadata": {},
     "output_type": "execute_result"
    }
   ],
   "source": [
    "final_test.columns"
   ]
  },
  {
   "cell_type": "markdown",
   "metadata": {},
   "source": [
    "# Adding features"
   ]
  },
  {
   "cell_type": "markdown",
   "metadata": {},
   "source": [
    "## 1. Distance"
   ]
  },
  {
   "cell_type": "code",
   "execution_count": 56,
   "metadata": {},
   "outputs": [],
   "source": [
    "def distance_gc(row):\n",
    "    try:\n",
    "        coords_1 = (row['pickup_latitude'], row['pickup_longitude'])\n",
    "        coords_2 = (row['dropoff_latitude'], row['dropoff_longitude'])\n",
    "        return great_circle(coords_1, coords_2).miles\n",
    "    except:\n",
    "        return None"
   ]
  },
  {
   "cell_type": "code",
   "execution_count": 57,
   "metadata": {},
   "outputs": [],
   "source": [
    "def distance_manhattan(row):\n",
    "    try:\n",
    "        coords_1 = (row['pickup_latitude'], row['pickup_longitude'])\n",
    "        coords_2 = (row['pickup_latitude'], row['dropoff_longitude'])\n",
    "        coords_3 = (row['dropoff_latitude'], row['dropoff_longitude'])\n",
    "        return great_circle(coords_1, coords_2).miles + great_circle(coords_2, coords_3).miles\n",
    "    except:\n",
    "        return None"
   ]
  },
  {
   "cell_type": "code",
   "execution_count": 59,
   "metadata": {},
   "outputs": [],
   "source": [
    "final_test['haver_dist'] = final_test.apply(distance_gc, axis=1)"
   ]
  },
  {
   "cell_type": "code",
   "execution_count": 61,
   "metadata": {},
   "outputs": [],
   "source": [
    "final_test['man_dist'] = final_test.apply(distance_manhattan, axis=1)"
   ]
  },
  {
   "cell_type": "markdown",
   "metadata": {},
   "source": [
    "## 2. day of week and hour_of_day"
   ]
  },
  {
   "cell_type": "code",
   "execution_count": 63,
   "metadata": {},
   "outputs": [],
   "source": [
    "final_test.loc[:, 'hour_of_day'] = final_test['pickup_datetime'].dt.hour\n",
    "final_test.loc[:, 'day_of_week'] = final_test['pickup_datetime'].dt.dayofweek"
   ]
  },
  {
   "cell_type": "markdown",
   "metadata": {},
   "source": [
    "## 3. work (1 or 0) and weekday (1 or 0)"
   ]
  },
  {
   "cell_type": "code",
   "execution_count": 64,
   "metadata": {},
   "outputs": [],
   "source": [
    "final_test['work'] = np.where( (final_test['hour_of_day'] > 7) & (final_test['hour_of_day'] < 19), 1, 0)\n",
    "final_test['weekday'] = np.where( (final_test['day_of_week'] != 5) & (final_test['day_of_week'] != 6), 1, 0)"
   ]
  },
  {
   "cell_type": "markdown",
   "metadata": {},
   "source": [
    "## 4. Clustering"
   ]
  },
  {
   "cell_type": "code",
   "execution_count": 65,
   "metadata": {},
   "outputs": [],
   "source": [
    "# Center lat and lon between pickup and dropoff\n",
    "final_test.loc[:, 'center_latitude'] = (final_test['pickup_latitude'].values + final_test['dropoff_latitude'].values) / 2\n",
    "final_test.loc[:, 'center_longitude'] = (final_test['pickup_longitude'].values + final_test['dropoff_longitude'].values) / 2"
   ]
  },
  {
   "cell_type": "code",
   "execution_count": 66,
   "metadata": {},
   "outputs": [],
   "source": [
    "kmeans = load('kmeans.joblib') "
   ]
  },
  {
   "cell_type": "code",
   "execution_count": 67,
   "metadata": {},
   "outputs": [],
   "source": [
    "warnings.filterwarnings('ignore')\n",
    "\n",
    "pickup_coords_te = final_test[['pickup_latitude', 'pickup_longitude']]\n",
    "final_test['pickup_cluster'] = kmeans.predict(pickup_coords_te)\n",
    "\n",
    "dropoff_coords_te = final_test[['dropoff_latitude', 'dropoff_longitude']]\n",
    "final_test['dropoff_cluster'] = kmeans.predict(dropoff_coords_te)\n",
    "\n",
    "center_coords_te = final_test[['center_latitude', 'center_longitude']]\n",
    "final_test['center_cluster'] = kmeans.predict(center_coords_te)"
   ]
  },
  {
   "cell_type": "markdown",
   "metadata": {},
   "source": [
    "## 5. Avg num of rides in each 3 clusters, for that week day, at that hour. "
   ]
  },
  {
   "cell_type": "code",
   "execution_count": 68,
   "metadata": {},
   "outputs": [],
   "source": [
    "def num_rides(df):\n",
    "    \n",
    "    num_rides_pcluster = df.groupby(['pickup_cluster', 'day_of_week', 'hour_of_day']).count()[['pickup_latitude']].rename(columns={'pickup_latitude':'num_rides_pcluster'})\n",
    "    num_rides_pcluster['num_rides_pcluster'] = num_rides_pcluster['num_rides_pcluster'].apply(lambda x: x/19)\n",
    "    df = pd.merge(df, num_rides_pcluster, on=['pickup_cluster','day_of_week', 'hour_of_day'])\n",
    "\n",
    "    num_rides_dcluster = df.groupby(['dropoff_cluster', 'day_of_week', 'hour_of_day']).count()[['dropoff_latitude']].rename(columns={'dropoff_latitude':'num_rides_dcluster'})\n",
    "    num_rides_dcluster['num_rides_dcluster'] = num_rides_dcluster['num_rides_dcluster'].apply(lambda x: x/19)\n",
    "    df = pd.merge(df, num_rides_dcluster, on=['dropoff_cluster','day_of_week', 'hour_of_day'])\n",
    "\n",
    "    num_rides_ccluster = df.groupby(['center_cluster', 'day_of_week', 'hour_of_day']).count()[['center_latitude']].rename(columns={'center_latitude':'num_rides_ccluster'})\n",
    "    num_rides_ccluster['num_rides_ccluster'] = num_rides_ccluster['num_rides_ccluster'].apply(lambda x: x/19)\n",
    "    df = pd.merge(df, num_rides_ccluster, on=['center_cluster','day_of_week', 'hour_of_day'])\n",
    "    \n",
    "    return df"
   ]
  },
  {
   "cell_type": "code",
   "execution_count": 69,
   "metadata": {},
   "outputs": [],
   "source": [
    "final_test = num_rides(final_test)"
   ]
  },
  {
   "cell_type": "code",
   "execution_count": 70,
   "metadata": {},
   "outputs": [
    {
     "data": {
      "text/plain": [
       "Index(['pickup_datetime', 'pickup_latitude', 'pickup_longitude',\n",
       "       'dropoff_latitude', 'dropoff_longitude', 'passenger_count',\n",
       "       'date_of_year', 'hour_of_day', 'day_of_week', 'mo', 'da', 'temp',\n",
       "       'visib', 'wdsp', 'gust', 'max', 'min', 'prcp', 'fog', 'rain_drizzle',\n",
       "       'snow_ice_pellets', 'haver_dist', 'man_dist', 'work', 'weekday',\n",
       "       'center_latitude', 'center_longitude', 'pickup_cluster',\n",
       "       'dropoff_cluster', 'center_cluster', 'num_rides_pcluster',\n",
       "       'num_rides_dcluster', 'num_rides_ccluster'],\n",
       "      dtype='object')"
      ]
     },
     "execution_count": 70,
     "metadata": {},
     "output_type": "execute_result"
    }
   ],
   "source": [
    "final_test.columns"
   ]
  },
  {
   "cell_type": "markdown",
   "metadata": {},
   "source": [
    "# Removing columns that won't be used for prediction"
   ]
  },
  {
   "cell_type": "code",
   "execution_count": 71,
   "metadata": {},
   "outputs": [],
   "source": [
    "final_test = final_test.drop(labels = ['pickup_datetime', 'date_of_year', 'da', \n",
    "                              'center_latitude', 'center_longitude', \n",
    "                              'center_cluster'], \n",
    "                    axis = 1)"
   ]
  },
  {
   "cell_type": "markdown",
   "metadata": {},
   "source": [
    "# Make predictions"
   ]
  },
  {
   "cell_type": "code",
   "execution_count": 72,
   "metadata": {},
   "outputs": [],
   "source": [
    "# load best trained model\n",
    "xg_grid2 = load('xg_grid2.joblib') # xg + oHE + target"
   ]
  },
  {
   "cell_type": "code",
   "execution_count": 73,
   "metadata": {},
   "outputs": [],
   "source": [
    "# make predictions\n",
    "my_predictions = xg_grid2.predict(final_test)"
   ]
  },
  {
   "cell_type": "code",
   "execution_count": 75,
   "metadata": {},
   "outputs": [],
   "source": [
    "final_test['predictions'] = my_predictions"
   ]
  },
  {
   "cell_type": "code",
   "execution_count": 76,
   "metadata": {},
   "outputs": [
    {
     "data": {
      "text/html": [
       "<div>\n",
       "<style scoped>\n",
       "    .dataframe tbody tr th:only-of-type {\n",
       "        vertical-align: middle;\n",
       "    }\n",
       "\n",
       "    .dataframe tbody tr th {\n",
       "        vertical-align: top;\n",
       "    }\n",
       "\n",
       "    .dataframe thead th {\n",
       "        text-align: right;\n",
       "    }\n",
       "</style>\n",
       "<table border=\"1\" class=\"dataframe\">\n",
       "  <thead>\n",
       "    <tr style=\"text-align: right;\">\n",
       "      <th></th>\n",
       "      <th>pickup_latitude</th>\n",
       "      <th>pickup_longitude</th>\n",
       "      <th>dropoff_latitude</th>\n",
       "      <th>dropoff_longitude</th>\n",
       "      <th>passenger_count</th>\n",
       "      <th>hour_of_day</th>\n",
       "      <th>day_of_week</th>\n",
       "      <th>mo</th>\n",
       "      <th>temp</th>\n",
       "      <th>visib</th>\n",
       "      <th>wdsp</th>\n",
       "      <th>gust</th>\n",
       "      <th>max</th>\n",
       "      <th>min</th>\n",
       "      <th>prcp</th>\n",
       "      <th>fog</th>\n",
       "      <th>rain_drizzle</th>\n",
       "      <th>snow_ice_pellets</th>\n",
       "      <th>haver_dist</th>\n",
       "      <th>man_dist</th>\n",
       "      <th>work</th>\n",
       "      <th>weekday</th>\n",
       "      <th>pickup_cluster</th>\n",
       "      <th>dropoff_cluster</th>\n",
       "      <th>num_rides_pcluster</th>\n",
       "      <th>num_rides_dcluster</th>\n",
       "      <th>num_rides_ccluster</th>\n",
       "      <th>predictions</th>\n",
       "    </tr>\n",
       "  </thead>\n",
       "  <tbody>\n",
       "    <tr>\n",
       "      <th>0</th>\n",
       "      <td>40.702740</td>\n",
       "      <td>-74.011650</td>\n",
       "      <td>40.773361</td>\n",
       "      <td>-73.990311</td>\n",
       "      <td>5</td>\n",
       "      <td>21</td>\n",
       "      <td>3</td>\n",
       "      <td>06</td>\n",
       "      <td>66.8</td>\n",
       "      <td>9.8</td>\n",
       "      <td>3.3</td>\n",
       "      <td>999.9</td>\n",
       "      <td>71.1</td>\n",
       "      <td>64.0</td>\n",
       "      <td>0.00</td>\n",
       "      <td>0</td>\n",
       "      <td>0</td>\n",
       "      <td>0</td>\n",
       "      <td>5.005735</td>\n",
       "      <td>5.997238</td>\n",
       "      <td>0</td>\n",
       "      <td>1</td>\n",
       "      <td>20</td>\n",
       "      <td>76</td>\n",
       "      <td>6.368421</td>\n",
       "      <td>1.842105</td>\n",
       "      <td>6.263158</td>\n",
       "      <td>454.061584</td>\n",
       "    </tr>\n",
       "    <tr>\n",
       "      <th>1</th>\n",
       "      <td>40.704395</td>\n",
       "      <td>-74.009605</td>\n",
       "      <td>40.775311</td>\n",
       "      <td>-73.984108</td>\n",
       "      <td>1</td>\n",
       "      <td>21</td>\n",
       "      <td>3</td>\n",
       "      <td>01</td>\n",
       "      <td>34.4</td>\n",
       "      <td>8.3</td>\n",
       "      <td>3.4</td>\n",
       "      <td>999.9</td>\n",
       "      <td>39.9</td>\n",
       "      <td>25.0</td>\n",
       "      <td>0.00</td>\n",
       "      <td>0</td>\n",
       "      <td>0</td>\n",
       "      <td>0</td>\n",
       "      <td>5.078338</td>\n",
       "      <td>6.235296</td>\n",
       "      <td>0</td>\n",
       "      <td>1</td>\n",
       "      <td>64</td>\n",
       "      <td>76</td>\n",
       "      <td>9.894737</td>\n",
       "      <td>1.842105</td>\n",
       "      <td>6.263158</td>\n",
       "      <td>559.447083</td>\n",
       "    </tr>\n",
       "    <tr>\n",
       "      <th>2</th>\n",
       "      <td>40.706589</td>\n",
       "      <td>-74.014160</td>\n",
       "      <td>40.767136</td>\n",
       "      <td>-73.984451</td>\n",
       "      <td>1</td>\n",
       "      <td>21</td>\n",
       "      <td>3</td>\n",
       "      <td>07</td>\n",
       "      <td>76.7</td>\n",
       "      <td>10.0</td>\n",
       "      <td>4.1</td>\n",
       "      <td>14.0</td>\n",
       "      <td>86.0</td>\n",
       "      <td>68.0</td>\n",
       "      <td>0.00</td>\n",
       "      <td>0</td>\n",
       "      <td>0</td>\n",
       "      <td>0</td>\n",
       "      <td>4.463169</td>\n",
       "      <td>5.739449</td>\n",
       "      <td>0</td>\n",
       "      <td>1</td>\n",
       "      <td>20</td>\n",
       "      <td>72</td>\n",
       "      <td>6.368421</td>\n",
       "      <td>2.052632</td>\n",
       "      <td>6.263158</td>\n",
       "      <td>420.923584</td>\n",
       "    </tr>\n",
       "    <tr>\n",
       "      <th>3</th>\n",
       "      <td>40.707321</td>\n",
       "      <td>-74.011978</td>\n",
       "      <td>40.765381</td>\n",
       "      <td>-73.982422</td>\n",
       "      <td>1</td>\n",
       "      <td>21</td>\n",
       "      <td>3</td>\n",
       "      <td>10</td>\n",
       "      <td>59.8</td>\n",
       "      <td>9.8</td>\n",
       "      <td>7.6</td>\n",
       "      <td>21.0</td>\n",
       "      <td>79.0</td>\n",
       "      <td>55.9</td>\n",
       "      <td>0.04</td>\n",
       "      <td>0</td>\n",
       "      <td>1</td>\n",
       "      <td>0</td>\n",
       "      <td>4.299633</td>\n",
       "      <td>5.559592</td>\n",
       "      <td>0</td>\n",
       "      <td>1</td>\n",
       "      <td>20</td>\n",
       "      <td>72</td>\n",
       "      <td>6.368421</td>\n",
       "      <td>2.052632</td>\n",
       "      <td>6.263158</td>\n",
       "      <td>510.088226</td>\n",
       "    </tr>\n",
       "    <tr>\n",
       "      <th>4</th>\n",
       "      <td>40.702961</td>\n",
       "      <td>-74.011124</td>\n",
       "      <td>40.764774</td>\n",
       "      <td>-73.981094</td>\n",
       "      <td>1</td>\n",
       "      <td>21</td>\n",
       "      <td>3</td>\n",
       "      <td>03</td>\n",
       "      <td>45.1</td>\n",
       "      <td>10.0</td>\n",
       "      <td>7.7</td>\n",
       "      <td>25.1</td>\n",
       "      <td>59.0</td>\n",
       "      <td>39.9</td>\n",
       "      <td>0.01</td>\n",
       "      <td>0</td>\n",
       "      <td>0</td>\n",
       "      <td>0</td>\n",
       "      <td>4.551083</td>\n",
       "      <td>5.843824</td>\n",
       "      <td>0</td>\n",
       "      <td>1</td>\n",
       "      <td>64</td>\n",
       "      <td>72</td>\n",
       "      <td>9.894737</td>\n",
       "      <td>2.052632</td>\n",
       "      <td>6.263158</td>\n",
       "      <td>565.720520</td>\n",
       "    </tr>\n",
       "  </tbody>\n",
       "</table>\n",
       "</div>"
      ],
      "text/plain": [
       "   pickup_latitude  pickup_longitude  dropoff_latitude  dropoff_longitude  \\\n",
       "0        40.702740        -74.011650         40.773361         -73.990311   \n",
       "1        40.704395        -74.009605         40.775311         -73.984108   \n",
       "2        40.706589        -74.014160         40.767136         -73.984451   \n",
       "3        40.707321        -74.011978         40.765381         -73.982422   \n",
       "4        40.702961        -74.011124         40.764774         -73.981094   \n",
       "\n",
       "   passenger_count  hour_of_day  day_of_week  mo  temp  visib wdsp   gust  \\\n",
       "0                5           21            3  06  66.8    9.8  3.3  999.9   \n",
       "1                1           21            3  01  34.4    8.3  3.4  999.9   \n",
       "2                1           21            3  07  76.7   10.0  4.1   14.0   \n",
       "3                1           21            3  10  59.8    9.8  7.6   21.0   \n",
       "4                1           21            3  03  45.1   10.0  7.7   25.1   \n",
       "\n",
       "    max   min  prcp fog rain_drizzle snow_ice_pellets  haver_dist  man_dist  \\\n",
       "0  71.1  64.0  0.00   0            0                0    5.005735  5.997238   \n",
       "1  39.9  25.0  0.00   0            0                0    5.078338  6.235296   \n",
       "2  86.0  68.0  0.00   0            0                0    4.463169  5.739449   \n",
       "3  79.0  55.9  0.04   0            1                0    4.299633  5.559592   \n",
       "4  59.0  39.9  0.01   0            0                0    4.551083  5.843824   \n",
       "\n",
       "   work  weekday  pickup_cluster  dropoff_cluster  num_rides_pcluster  \\\n",
       "0     0        1              20               76            6.368421   \n",
       "1     0        1              64               76            9.894737   \n",
       "2     0        1              20               72            6.368421   \n",
       "3     0        1              20               72            6.368421   \n",
       "4     0        1              64               72            9.894737   \n",
       "\n",
       "   num_rides_dcluster  num_rides_ccluster  predictions  \n",
       "0            1.842105            6.263158   454.061584  \n",
       "1            1.842105            6.263158   559.447083  \n",
       "2            2.052632            6.263158   420.923584  \n",
       "3            2.052632            6.263158   510.088226  \n",
       "4            2.052632            6.263158   565.720520  "
      ]
     },
     "execution_count": 76,
     "metadata": {},
     "output_type": "execute_result"
    }
   ],
   "source": [
    "final_test.head()"
   ]
  },
  {
   "cell_type": "code",
   "execution_count": 77,
   "metadata": {},
   "outputs": [],
   "source": [
    "final_test.to_csv('/Users/liyannie/Desktop/Sp_2019_courses/DS_Indus/project/liyan/my_predictions.csv')"
   ]
  }
 ],
 "metadata": {
  "kernelspec": {
   "display_name": "Python 3",
   "language": "python",
   "name": "python3"
  },
  "language_info": {
   "codemirror_mode": {
    "name": "ipython",
    "version": 3
   },
   "file_extension": ".py",
   "mimetype": "text/x-python",
   "name": "python",
   "nbconvert_exporter": "python",
   "pygments_lexer": "ipython3",
   "version": "3.7.2"
  }
 },
 "nbformat": 4,
 "nbformat_minor": 2
}
