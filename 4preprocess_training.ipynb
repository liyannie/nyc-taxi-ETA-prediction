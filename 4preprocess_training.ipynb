{
 "cells": [
  {
   "cell_type": "code",
   "execution_count": 63,
   "metadata": {},
   "outputs": [],
   "source": [
    "import pandas as pd\n",
    "import numpy as np\n",
    "import pickle\n",
    "from sklearn.pipeline import make_pipeline\n",
    "from category_encoders import TargetEncoder, OneHotEncoder\n",
    "from sklearn.preprocessing import OneHotEncoder, PowerTransformer, StandardScaler, PolynomialFeatures\n",
    "from sklearn.compose import make_column_transformer\n",
    "from xgboost import XGBRegressor\n",
    "from sklearn.ensemble import RandomForestRegressor\n",
    "from sklearn.model_selection import GridSearchCV, cross_validate, cross_val_score\n",
    "from sklearn.linear_model import LinearRegression, Ridge, Lasso\n",
    "import warnings\n",
    "from joblib import dump, load"
   ]
  },
  {
   "cell_type": "code",
   "execution_count": 2,
   "metadata": {},
   "outputs": [],
   "source": [
    "train = pd.read_pickle(\"/Users/liyannie/Desktop/Sp_2019_courses/DS_Indus/project/liyan/train.pkl\")\n",
    "test = pd.read_pickle(\"/Users/liyannie/Desktop/Sp_2019_courses/DS_Indus/project/liyan/test.pkl\")"
   ]
  },
  {
   "cell_type": "code",
   "execution_count": 3,
   "metadata": {},
   "outputs": [],
   "source": [
    "X_train = train.loc[:, train.columns != 'travel_time']\n",
    "y_train = train['travel_time']\n",
    "X_test = test.loc[:, train.columns != 'travel_time']\n",
    "y_test = test['travel_time']"
   ]
  },
  {
   "cell_type": "markdown",
   "metadata": {},
   "source": [
    "## One hot encoding ( < 15 categories):\n",
    "- mo\n",
    "- fog\n",
    "- rain_drizzle\n",
    "- snow_ice_pellets\n",
    "- day_of_week\n",
    "- work\n",
    "- weekday"
   ]
  },
  {
   "cell_type": "markdown",
   "metadata": {},
   "source": [
    "## Target-based encoding ( >15 categories, + scaler for lin models):\n",
    "- pickup_cluster\n",
    "- dropoff_cluster\n",
    "- hour_of_day"
   ]
  },
  {
   "cell_type": "markdown",
   "metadata": {},
   "source": [
    "## Numerical (power transformation, + scaler for lin models?):\n",
    "- passenger_count\n",
    "- temp                \n",
    "- visib                 \n",
    "- wdsp                 \n",
    "- gust                  \n",
    "- max                   \n",
    "- min                    \n",
    "- prcp \n",
    "- num_rides_pcluster   \n",
    "- num_rides_dcluster     \n",
    "- num_rides_ccluster    \n",
    "- haver_dist\n",
    "- man_dist"
   ]
  },
  {
   "cell_type": "markdown",
   "metadata": {},
   "source": [
    "### Other:\n",
    "- pickup_longitude       \n",
    "- pickup_latitude\n",
    "- dropoff_longitude     \n",
    "- dropoff_latitude"
   ]
  },
  {
   "cell_type": "markdown",
   "metadata": {},
   "source": [
    "# 5.1 linear models"
   ]
  },
  {
   "cell_type": "code",
   "execution_count": 21,
   "metadata": {},
   "outputs": [],
   "source": [
    "X_train_lin = X_train.drop(labels = ['pickup_longitude', 'pickup_latitude', \n",
    "                                     'dropoff_longitude', 'dropoff_latitude'], \n",
    "                           axis = 1).head(100000)\n",
    "y_train_lin = y_train[:100000]"
   ]
  },
  {
   "cell_type": "code",
   "execution_count": 22,
   "metadata": {},
   "outputs": [],
   "source": [
    "X_test_lin = X_test.drop(labels = ['pickup_longitude', 'pickup_latitude', \n",
    "                                     'dropoff_longitude', 'dropoff_latitude'], \n",
    "                           axis = 1)"
   ]
  },
  {
   "cell_type": "markdown",
   "metadata": {},
   "source": [
    "## Ridge + OHE"
   ]
  },
  {
   "cell_type": "code",
   "execution_count": 541,
   "metadata": {},
   "outputs": [],
   "source": [
    "# no preprocessing other than ohe\n",
    "lr_ohe_feat1 = ['mo', 'fog', 'rain_drizzle', 'snow_ice_pellets', 'day_of_week', 'work', 'weekday',\n",
    "           'pickup_cluster', 'dropoff_cluster', 'hour_of_day']\n",
    "lr_pre1 = make_column_transformer((OneHotEncoder(handle_unknown = 'ignore', sparse = False) \n",
    "                                   lr_ohe_feat1),\n",
    "                                  remainder='passthrough')\n",
    "\n",
    "# !!! remainder = \"passthrough\" means we will keep these numerical variables that we did not specify in the column\n",
    "# transformer. They will be appended to the end of the transformed matrix"
   ]
  },
  {
   "cell_type": "code",
   "execution_count": 542,
   "metadata": {},
   "outputs": [],
   "source": [
    "ridge_pipe1 = make_pipeline(lr_pre1, Ridge())\n",
    "ridge_params_grid1 = {'ridge__alpha': np.logspace(-3, 5, 10)}\n",
    "ridge_grid1 = GridSearchCV(ridge_pipe1, ridge_params_grid1, cv=3, \n",
    "                           refit = 'neg_mean_squared_error', \n",
    "                           scoring = ['neg_mean_squared_error', \n",
    "                                     #'neg_mean_squared_log_error',\n",
    "                                     'r2'])"
   ]
  },
  {
   "cell_type": "code",
   "execution_count": 543,
   "metadata": {},
   "outputs": [
    {
     "name": "stdout",
     "output_type": "stream",
     "text": [
      "CPU times: user 3min 7s, sys: 50.1 s, total: 3min 57s\n",
      "Wall time: 3min 6s\n"
     ]
    }
   ],
   "source": [
    "%%time\n",
    "\n",
    "warnings.filterwarnings('ignore')\n",
    "\n",
    "ridge_grid1.fit(X_train_lin, y_train_lin)"
   ]
  },
  {
   "cell_type": "code",
   "execution_count": 544,
   "metadata": {},
   "outputs": [
    {
     "data": {
      "text/plain": [
       "['ridge_grid1.joblib']"
      ]
     },
     "execution_count": 544,
     "metadata": {},
     "output_type": "execute_result"
    }
   ],
   "source": [
    "# save model to joblib\n",
    "dump(ridge_grid1, 'ridge_grid1.joblib')\n",
    "ridge_grid1 = load('ridge_grid1.joblib') "
   ]
  },
  {
   "cell_type": "code",
   "execution_count": 28,
   "metadata": {},
   "outputs": [],
   "source": [
    "ridge_grid1 = load('ridge_grid1.joblib') "
   ]
  },
  {
   "cell_type": "code",
   "execution_count": 545,
   "metadata": {},
   "outputs": [
    {
     "data": {
      "text/plain": [
       "{'ridge__alpha': 215.44346900318823}"
      ]
     },
     "execution_count": 545,
     "metadata": {},
     "output_type": "execute_result"
    }
   ],
   "source": [
    "ridge_grid1.best_params_"
   ]
  },
  {
   "cell_type": "code",
   "execution_count": 546,
   "metadata": {},
   "outputs": [
    {
     "data": {
      "text/plain": [
       "-114796.94401367611"
      ]
     },
     "execution_count": 546,
     "metadata": {},
     "output_type": "execute_result"
    }
   ],
   "source": [
    "ridge_grid1.best_score_"
   ]
  },
  {
   "cell_type": "code",
   "execution_count": 30,
   "metadata": {},
   "outputs": [
    {
     "data": {
      "text/plain": [
       "-210423.15805765736"
      ]
     },
     "execution_count": 30,
     "metadata": {},
     "output_type": "execute_result"
    }
   ],
   "source": [
    "ridge_grid1.score(X_test_lin, y_test)"
   ]
  },
  {
   "cell_type": "code",
   "execution_count": 548,
   "metadata": {},
   "outputs": [
    {
     "data": {
      "text/html": [
       "<div>\n",
       "<style scoped>\n",
       "    .dataframe tbody tr th:only-of-type {\n",
       "        vertical-align: middle;\n",
       "    }\n",
       "\n",
       "    .dataframe tbody tr th {\n",
       "        vertical-align: top;\n",
       "    }\n",
       "\n",
       "    .dataframe thead th {\n",
       "        text-align: right;\n",
       "    }\n",
       "</style>\n",
       "<table border=\"1\" class=\"dataframe\">\n",
       "  <thead>\n",
       "    <tr style=\"text-align: right;\">\n",
       "      <th></th>\n",
       "      <th>param_ridge__alpha</th>\n",
       "      <th>mean_test_neg_mean_squared_error</th>\n",
       "      <th>mean_test_r2</th>\n",
       "    </tr>\n",
       "  </thead>\n",
       "  <tbody>\n",
       "    <tr>\n",
       "      <th>0</th>\n",
       "      <td>0.001</td>\n",
       "      <td>-120673.940163</td>\n",
       "      <td>0.667107</td>\n",
       "    </tr>\n",
       "    <tr>\n",
       "      <th>1</th>\n",
       "      <td>0.00774264</td>\n",
       "      <td>-120668.334166</td>\n",
       "      <td>0.667123</td>\n",
       "    </tr>\n",
       "    <tr>\n",
       "      <th>2</th>\n",
       "      <td>0.0599484</td>\n",
       "      <td>-120626.069251</td>\n",
       "      <td>0.667249</td>\n",
       "    </tr>\n",
       "    <tr>\n",
       "      <th>3</th>\n",
       "      <td>0.464159</td>\n",
       "      <td>-120346.209882</td>\n",
       "      <td>0.668082</td>\n",
       "    </tr>\n",
       "    <tr>\n",
       "      <th>4</th>\n",
       "      <td>3.59381</td>\n",
       "      <td>-118984.323682</td>\n",
       "      <td>0.672145</td>\n",
       "    </tr>\n",
       "    <tr>\n",
       "      <th>5</th>\n",
       "      <td>27.8256</td>\n",
       "      <td>-115409.613970</td>\n",
       "      <td>0.682875</td>\n",
       "    </tr>\n",
       "    <tr>\n",
       "      <th>6</th>\n",
       "      <td>215.443</td>\n",
       "      <td>-114796.944014</td>\n",
       "      <td>0.685004</td>\n",
       "    </tr>\n",
       "    <tr>\n",
       "      <th>7</th>\n",
       "      <td>1668.1</td>\n",
       "      <td>-118467.284651</td>\n",
       "      <td>0.674408</td>\n",
       "    </tr>\n",
       "    <tr>\n",
       "      <th>8</th>\n",
       "      <td>12915.5</td>\n",
       "      <td>-125498.874498</td>\n",
       "      <td>0.654685</td>\n",
       "    </tr>\n",
       "    <tr>\n",
       "      <th>9</th>\n",
       "      <td>100000</td>\n",
       "      <td>-131344.426444</td>\n",
       "      <td>0.639252</td>\n",
       "    </tr>\n",
       "  </tbody>\n",
       "</table>\n",
       "</div>"
      ],
      "text/plain": [
       "  param_ridge__alpha  mean_test_neg_mean_squared_error  mean_test_r2\n",
       "0              0.001                    -120673.940163      0.667107\n",
       "1         0.00774264                    -120668.334166      0.667123\n",
       "2          0.0599484                    -120626.069251      0.667249\n",
       "3           0.464159                    -120346.209882      0.668082\n",
       "4            3.59381                    -118984.323682      0.672145\n",
       "5            27.8256                    -115409.613970      0.682875\n",
       "6            215.443                    -114796.944014      0.685004\n",
       "7             1668.1                    -118467.284651      0.674408\n",
       "8            12915.5                    -125498.874498      0.654685\n",
       "9             100000                    -131344.426444      0.639252"
      ]
     },
     "execution_count": 548,
     "metadata": {},
     "output_type": "execute_result"
    }
   ],
   "source": [
    "warnings.filterwarnings('ignore')\n",
    "\n",
    "ridge_result1 = pd.DataFrame(ridge_grid1.cv_results_)[['param_ridge__alpha', 'mean_test_neg_mean_squared_error', \n",
    "                                     #'mean_test_neg_mean_squared_log_error',\n",
    "                                    'mean_test_r2']]\n",
    "ridge_result1"
   ]
  },
  {
   "cell_type": "markdown",
   "metadata": {},
   "source": [
    "### Ridge + OHE + target encoder + polynomial (done - overfit)"
   ]
  },
  {
   "cell_type": "code",
   "execution_count": 72,
   "metadata": {},
   "outputs": [],
   "source": [
    "ridge_ohe_feat2 = ['mo', 'fog', 'rain_drizzle', 'snow_ice_pellets', 'day_of_week', 'work', 'weekday']\n",
    "ridge_target_feat2 = ['pickup_cluster', 'dropoff_cluster', 'hour_of_day']\n",
    "ridge_pre2 = make_column_transformer((OneHotEncoder(handle_unknown = 'ignore', sparse = False), ridge_ohe_feat2),\n",
    "                                     (TargetEncoder(handle_unknown = 'ignore'), ridge_target_feat2),\n",
    "                                     remainder='passthrough')\n"
   ]
  },
  {
   "cell_type": "code",
   "execution_count": 73,
   "metadata": {},
   "outputs": [],
   "source": [
    "ridge_pipe2 = make_pipeline(ridge_pre2, PolynomialFeatures(include_bias = False, interaction_only = True), Ridge())\n",
    "ridge_params_grid2 = {'ridge__alpha': np.logspace(-3, 5, 10)}\n",
    "ridge_grid2 = GridSearchCV(ridge_pipe2, ridge_params_grid2, cv=3, \n",
    "                           refit = 'neg_mean_squared_error', \n",
    "                           scoring = ['neg_mean_squared_error', \n",
    "                                     #'neg_mean_squared_log_error',\n",
    "                                     'r2'])"
   ]
  },
  {
   "cell_type": "code",
   "execution_count": 74,
   "metadata": {},
   "outputs": [
    {
     "name": "stdout",
     "output_type": "stream",
     "text": [
      "CPU times: user 5min 40s, sys: 36.6 s, total: 6min 17s\n",
      "Wall time: 5min 17s\n"
     ]
    }
   ],
   "source": [
    "%%time\n",
    "warnings.filterwarnings('ignore')\n",
    "\n",
    "ridge_grid2.fit(X_train_lin, y_train_lin)"
   ]
  },
  {
   "cell_type": "code",
   "execution_count": 75,
   "metadata": {},
   "outputs": [
    {
     "data": {
      "text/plain": [
       "['ridge_grid2.joblib']"
      ]
     },
     "execution_count": 75,
     "metadata": {},
     "output_type": "execute_result"
    }
   ],
   "source": [
    "# save model to joblib\n",
    "dump(ridge_grid2, 'ridge_grid2.joblib')\n",
    "#clf = load('filename.joblib') "
   ]
  },
  {
   "cell_type": "code",
   "execution_count": 76,
   "metadata": {},
   "outputs": [
    {
     "data": {
      "text/plain": [
       "{'ridge__alpha': 100000.0}"
      ]
     },
     "execution_count": 76,
     "metadata": {},
     "output_type": "execute_result"
    }
   ],
   "source": [
    "ridge_grid2.best_params_"
   ]
  },
  {
   "cell_type": "code",
   "execution_count": 77,
   "metadata": {},
   "outputs": [
    {
     "data": {
      "text/plain": [
       "-107022.57289050739"
      ]
     },
     "execution_count": 77,
     "metadata": {},
     "output_type": "execute_result"
    }
   ],
   "source": [
    "ridge_grid2.best_score_"
   ]
  },
  {
   "cell_type": "code",
   "execution_count": 78,
   "metadata": {},
   "outputs": [
    {
     "data": {
      "text/plain": [
       "-199705.24330563875"
      ]
     },
     "execution_count": 78,
     "metadata": {},
     "output_type": "execute_result"
    }
   ],
   "source": [
    "ridge_grid2.score(X_test_lin, y_test)"
   ]
  },
  {
   "cell_type": "code",
   "execution_count": 79,
   "metadata": {},
   "outputs": [
    {
     "data": {
      "text/html": [
       "<div>\n",
       "<style scoped>\n",
       "    .dataframe tbody tr th:only-of-type {\n",
       "        vertical-align: middle;\n",
       "    }\n",
       "\n",
       "    .dataframe tbody tr th {\n",
       "        vertical-align: top;\n",
       "    }\n",
       "\n",
       "    .dataframe thead th {\n",
       "        text-align: right;\n",
       "    }\n",
       "</style>\n",
       "<table border=\"1\" class=\"dataframe\">\n",
       "  <thead>\n",
       "    <tr style=\"text-align: right;\">\n",
       "      <th></th>\n",
       "      <th>param_ridge__alpha</th>\n",
       "      <th>mean_test_neg_mean_squared_error</th>\n",
       "      <th>mean_test_r2</th>\n",
       "    </tr>\n",
       "  </thead>\n",
       "  <tbody>\n",
       "    <tr>\n",
       "      <th>0</th>\n",
       "      <td>0.001</td>\n",
       "      <td>-121161.029377</td>\n",
       "      <td>0.669885</td>\n",
       "    </tr>\n",
       "    <tr>\n",
       "      <th>1</th>\n",
       "      <td>0.00774264</td>\n",
       "      <td>-121159.262048</td>\n",
       "      <td>0.669889</td>\n",
       "    </tr>\n",
       "    <tr>\n",
       "      <th>2</th>\n",
       "      <td>0.0599484</td>\n",
       "      <td>-121145.150226</td>\n",
       "      <td>0.669924</td>\n",
       "    </tr>\n",
       "    <tr>\n",
       "      <th>3</th>\n",
       "      <td>0.464159</td>\n",
       "      <td>-121036.655221</td>\n",
       "      <td>0.670189</td>\n",
       "    </tr>\n",
       "    <tr>\n",
       "      <th>4</th>\n",
       "      <td>3.59381</td>\n",
       "      <td>-120243.208333</td>\n",
       "      <td>0.672129</td>\n",
       "    </tr>\n",
       "    <tr>\n",
       "      <th>5</th>\n",
       "      <td>27.8256</td>\n",
       "      <td>-116037.989281</td>\n",
       "      <td>0.682421</td>\n",
       "    </tr>\n",
       "    <tr>\n",
       "      <th>6</th>\n",
       "      <td>215.443</td>\n",
       "      <td>-109400.858110</td>\n",
       "      <td>0.698757</td>\n",
       "    </tr>\n",
       "    <tr>\n",
       "      <th>7</th>\n",
       "      <td>1668.1</td>\n",
       "      <td>-108392.720412</td>\n",
       "      <td>0.701532</td>\n",
       "    </tr>\n",
       "    <tr>\n",
       "      <th>8</th>\n",
       "      <td>12915.5</td>\n",
       "      <td>-107218.233233</td>\n",
       "      <td>0.705185</td>\n",
       "    </tr>\n",
       "    <tr>\n",
       "      <th>9</th>\n",
       "      <td>100000</td>\n",
       "      <td>-107022.572891</td>\n",
       "      <td>0.705981</td>\n",
       "    </tr>\n",
       "  </tbody>\n",
       "</table>\n",
       "</div>"
      ],
      "text/plain": [
       "  param_ridge__alpha  mean_test_neg_mean_squared_error  mean_test_r2\n",
       "0              0.001                    -121161.029377      0.669885\n",
       "1         0.00774264                    -121159.262048      0.669889\n",
       "2          0.0599484                    -121145.150226      0.669924\n",
       "3           0.464159                    -121036.655221      0.670189\n",
       "4            3.59381                    -120243.208333      0.672129\n",
       "5            27.8256                    -116037.989281      0.682421\n",
       "6            215.443                    -109400.858110      0.698757\n",
       "7             1668.1                    -108392.720412      0.701532\n",
       "8            12915.5                    -107218.233233      0.705185\n",
       "9             100000                    -107022.572891      0.705981"
      ]
     },
     "execution_count": 79,
     "metadata": {},
     "output_type": "execute_result"
    }
   ],
   "source": [
    "warnings.filterwarnings('ignore')\n",
    "\n",
    "ridge_result2 = pd.DataFrame(ridge_grid2.cv_results_)[['param_ridge__alpha', 'mean_test_neg_mean_squared_error', \n",
    "                                     #'mean_test_neg_mean_squared_log_error',\n",
    "                                    'mean_test_r2']]\n",
    "ridge_result2"
   ]
  },
  {
   "cell_type": "markdown",
   "metadata": {},
   "source": [
    "### Ridge + OHE + target encoder + (PowerTransformation + Scaling) for numerical"
   ]
  },
  {
   "cell_type": "code",
   "execution_count": 55,
   "metadata": {},
   "outputs": [],
   "source": [
    "ridge_ohe_feat3 = ['mo', 'fog', 'rain_drizzle', 'snow_ice_pellets', 'day_of_week', 'work', 'weekday']\n",
    "ridge_target_feat3 = ['pickup_cluster', 'dropoff_cluster', 'hour_of_day']\n",
    "ridge_num_feat3 = ['passenger_count', 'temp', 'visib', 'wdsp', 'gust', 'max', 'min','prcp',\n",
    "                  'haver_dist','man_dist','num_rides_pcluster','num_rides_dcluster', 'num_rides_ccluster']\n",
    "\n",
    "ridge_num_pipe = make_pipeline(PowerTransformer(), StandardScaler())\n",
    "\n",
    "ridge_pre3 = make_column_transformer((OneHotEncoder(handle_unknown = 'ignore', sparse = False), ridge_ohe_feat3),\n",
    "                                     (TargetEncoder(handle_unknown = 'ignore'), ridge_target_feat3),\n",
    "                                     (ridge_num_pipe, ridge_num_feat3))"
   ]
  },
  {
   "cell_type": "code",
   "execution_count": 56,
   "metadata": {},
   "outputs": [],
   "source": [
    "ridge_pipe3 = make_pipeline(ridge_pre3, Ridge())\n",
    "ridge_params_grid3 = {'ridge__alpha': np.logspace(-3, 5, 10)}\n",
    "ridge_grid3 = GridSearchCV(ridge_pipe3, ridge_params_grid3, cv=3, \n",
    "                           refit = 'neg_mean_squared_error', \n",
    "                           scoring = ['neg_mean_squared_error', \n",
    "                                     #'neg_mean_squared_log_error',\n",
    "                                     'r2'])"
   ]
  },
  {
   "cell_type": "code",
   "execution_count": 57,
   "metadata": {},
   "outputs": [
    {
     "name": "stdout",
     "output_type": "stream",
     "text": [
      "CPU times: user 1min 56s, sys: 7.01 s, total: 2min 3s\n",
      "Wall time: 1min 3s\n"
     ]
    }
   ],
   "source": [
    "%%time\n",
    "warnings.filterwarnings('ignore')\n",
    "\n",
    "ridge_grid3.fit(X_train_lin, y_train_lin)"
   ]
  },
  {
   "cell_type": "code",
   "execution_count": 58,
   "metadata": {},
   "outputs": [
    {
     "data": {
      "text/plain": [
       "['ridge_grid3.joblib']"
      ]
     },
     "execution_count": 58,
     "metadata": {},
     "output_type": "execute_result"
    }
   ],
   "source": [
    "# save model to joblib\n",
    "dump(ridge_grid3, 'ridge_grid3.joblib')\n",
    "#clf = load('filename.joblib') "
   ]
  },
  {
   "cell_type": "code",
   "execution_count": 59,
   "metadata": {},
   "outputs": [
    {
     "data": {
      "text/plain": [
       "{'ridge__alpha': 27.825594022071257}"
      ]
     },
     "execution_count": 59,
     "metadata": {},
     "output_type": "execute_result"
    }
   ],
   "source": [
    "ridge_grid3.best_params_"
   ]
  },
  {
   "cell_type": "code",
   "execution_count": 60,
   "metadata": {},
   "outputs": [
    {
     "data": {
      "text/plain": [
       "-158773.8885575869"
      ]
     },
     "execution_count": 60,
     "metadata": {},
     "output_type": "execute_result"
    }
   ],
   "source": [
    "ridge_grid3.best_score_"
   ]
  },
  {
   "cell_type": "code",
   "execution_count": 61,
   "metadata": {},
   "outputs": [
    {
     "data": {
      "text/plain": [
       "-237927.23336062572"
      ]
     },
     "execution_count": 61,
     "metadata": {},
     "output_type": "execute_result"
    }
   ],
   "source": [
    "ridge_grid3.score(X_test_lin, y_test)"
   ]
  },
  {
   "cell_type": "code",
   "execution_count": 62,
   "metadata": {},
   "outputs": [
    {
     "data": {
      "text/html": [
       "<div>\n",
       "<style scoped>\n",
       "    .dataframe tbody tr th:only-of-type {\n",
       "        vertical-align: middle;\n",
       "    }\n",
       "\n",
       "    .dataframe tbody tr th {\n",
       "        vertical-align: top;\n",
       "    }\n",
       "\n",
       "    .dataframe thead th {\n",
       "        text-align: right;\n",
       "    }\n",
       "</style>\n",
       "<table border=\"1\" class=\"dataframe\">\n",
       "  <thead>\n",
       "    <tr style=\"text-align: right;\">\n",
       "      <th></th>\n",
       "      <th>param_ridge__alpha</th>\n",
       "      <th>mean_test_neg_mean_squared_error</th>\n",
       "      <th>mean_test_r2</th>\n",
       "    </tr>\n",
       "  </thead>\n",
       "  <tbody>\n",
       "    <tr>\n",
       "      <th>0</th>\n",
       "      <td>0.001</td>\n",
       "      <td>-158777.354005</td>\n",
       "      <td>0.563186</td>\n",
       "    </tr>\n",
       "    <tr>\n",
       "      <th>1</th>\n",
       "      <td>0.00774264</td>\n",
       "      <td>-158777.350685</td>\n",
       "      <td>0.563186</td>\n",
       "    </tr>\n",
       "    <tr>\n",
       "      <th>2</th>\n",
       "      <td>0.0599484</td>\n",
       "      <td>-158777.325023</td>\n",
       "      <td>0.563186</td>\n",
       "    </tr>\n",
       "    <tr>\n",
       "      <th>3</th>\n",
       "      <td>0.464159</td>\n",
       "      <td>-158777.129080</td>\n",
       "      <td>0.563186</td>\n",
       "    </tr>\n",
       "    <tr>\n",
       "      <th>4</th>\n",
       "      <td>3.59381</td>\n",
       "      <td>-158775.773964</td>\n",
       "      <td>0.563191</td>\n",
       "    </tr>\n",
       "    <tr>\n",
       "      <th>5</th>\n",
       "      <td>27.8256</td>\n",
       "      <td>-158773.888558</td>\n",
       "      <td>0.563203</td>\n",
       "    </tr>\n",
       "    <tr>\n",
       "      <th>6</th>\n",
       "      <td>215.443</td>\n",
       "      <td>-158989.425913</td>\n",
       "      <td>0.562654</td>\n",
       "    </tr>\n",
       "    <tr>\n",
       "      <th>7</th>\n",
       "      <td>1668.1</td>\n",
       "      <td>-160182.798775</td>\n",
       "      <td>0.559572</td>\n",
       "    </tr>\n",
       "    <tr>\n",
       "      <th>8</th>\n",
       "      <td>12915.5</td>\n",
       "      <td>-162912.950276</td>\n",
       "      <td>0.552904</td>\n",
       "    </tr>\n",
       "    <tr>\n",
       "      <th>9</th>\n",
       "      <td>100000</td>\n",
       "      <td>-200364.709866</td>\n",
       "      <td>0.450815</td>\n",
       "    </tr>\n",
       "  </tbody>\n",
       "</table>\n",
       "</div>"
      ],
      "text/plain": [
       "  param_ridge__alpha  mean_test_neg_mean_squared_error  mean_test_r2\n",
       "0              0.001                    -158777.354005      0.563186\n",
       "1         0.00774264                    -158777.350685      0.563186\n",
       "2          0.0599484                    -158777.325023      0.563186\n",
       "3           0.464159                    -158777.129080      0.563186\n",
       "4            3.59381                    -158775.773964      0.563191\n",
       "5            27.8256                    -158773.888558      0.563203\n",
       "6            215.443                    -158989.425913      0.562654\n",
       "7             1668.1                    -160182.798775      0.559572\n",
       "8            12915.5                    -162912.950276      0.552904\n",
       "9             100000                    -200364.709866      0.450815"
      ]
     },
     "execution_count": 62,
     "metadata": {},
     "output_type": "execute_result"
    }
   ],
   "source": [
    "warnings.filterwarnings('ignore')\n",
    "\n",
    "ridge_result3 = pd.DataFrame(ridge_grid3.cv_results_)[['param_ridge__alpha', 'mean_test_neg_mean_squared_error', \n",
    "                                     #'mean_test_neg_mean_squared_log_error',\n",
    "                                    'mean_test_r2']]\n",
    "ridge_result3"
   ]
  },
  {
   "cell_type": "markdown",
   "metadata": {},
   "source": [
    "### Lasso + OHE + target encoder + (PowerTransformation + Scaling) for numerical"
   ]
  },
  {
   "cell_type": "code",
   "execution_count": 43,
   "metadata": {},
   "outputs": [],
   "source": [
    "lasso_ohe_feat1 = ['mo', 'fog', 'rain_drizzle', 'snow_ice_pellets', 'day_of_week', 'work', 'weekday']\n",
    "lasso_target_feat1 = ['pickup_cluster', 'dropoff_cluster', 'hour_of_day']\n",
    "lasso_num_feat1 = ['passenger_count', 'temp', 'visib', 'wdsp', 'gust', 'max', 'min','prcp',\n",
    "                  'haver_dist','man_dist','num_rides_pcluster','num_rides_dcluster', 'num_rides_ccluster']\n",
    "\n",
    "lasso_num_pipe = make_pipeline(PowerTransformer(), StandardScaler())\n",
    "\n",
    "lasso_pre1 = make_column_transformer((OneHotEncoder(handle_unknown = 'ignore', sparse = False), lasso_ohe_feat1),\n",
    "                                     (TargetEncoder(handle_unknown = 'ignore'), lasso_target_feat1),\n",
    "                                     (lasso_num_pipe, lasso_num_feat1))"
   ]
  },
  {
   "cell_type": "code",
   "execution_count": 47,
   "metadata": {},
   "outputs": [],
   "source": [
    "lasso_pipe1 = make_pipeline(lasso_pre1, Lasso())\n",
    "lasso_params_grid1 = {'lasso__alpha': np.logspace(-3, 5, 10)}\n",
    "lasso_grid1 = GridSearchCV(lasso_pipe1, lasso_params_grid1, cv=3, \n",
    "                           refit = 'neg_mean_squared_error', \n",
    "                           scoring = ['neg_mean_squared_error', \n",
    "                                     #'neg_mean_squared_log_error',\n",
    "                                     'r2'])"
   ]
  },
  {
   "cell_type": "code",
   "execution_count": 48,
   "metadata": {},
   "outputs": [
    {
     "name": "stdout",
     "output_type": "stream",
     "text": [
      "CPU times: user 3min 7s, sys: 8.45 s, total: 3min 15s\n",
      "Wall time: 1min 39s\n"
     ]
    }
   ],
   "source": [
    "%%time\n",
    "warnings.filterwarnings('ignore')\n",
    "\n",
    "lasso_grid1.fit(X_train_lin, y_train_lin)"
   ]
  },
  {
   "cell_type": "code",
   "execution_count": 49,
   "metadata": {},
   "outputs": [
    {
     "data": {
      "text/plain": [
       "['lasso_grid1.joblib']"
      ]
     },
     "execution_count": 49,
     "metadata": {},
     "output_type": "execute_result"
    }
   ],
   "source": [
    "# save model to joblib\n",
    "dump(lasso_grid1, 'lasso_grid1.joblib')\n",
    "#clf = load('filename.joblib') "
   ]
  },
  {
   "cell_type": "code",
   "execution_count": 50,
   "metadata": {},
   "outputs": [
    {
     "data": {
      "text/plain": [
       "{'lasso__alpha': 0.46415888336127775}"
      ]
     },
     "execution_count": 50,
     "metadata": {},
     "output_type": "execute_result"
    }
   ],
   "source": [
    "lasso_grid1.best_params_"
   ]
  },
  {
   "cell_type": "code",
   "execution_count": 51,
   "metadata": {},
   "outputs": [
    {
     "data": {
      "text/plain": [
       "-158559.9683848672"
      ]
     },
     "execution_count": 51,
     "metadata": {},
     "output_type": "execute_result"
    }
   ],
   "source": [
    "lasso_grid1.best_score_"
   ]
  },
  {
   "cell_type": "code",
   "execution_count": 52,
   "metadata": {},
   "outputs": [
    {
     "data": {
      "text/plain": [
       "-242776.5468209388"
      ]
     },
     "execution_count": 52,
     "metadata": {},
     "output_type": "execute_result"
    }
   ],
   "source": [
    "lasso_grid1.score(X_test_lin, y_test)"
   ]
  },
  {
   "cell_type": "code",
   "execution_count": 54,
   "metadata": {},
   "outputs": [
    {
     "data": {
      "text/html": [
       "<div>\n",
       "<style scoped>\n",
       "    .dataframe tbody tr th:only-of-type {\n",
       "        vertical-align: middle;\n",
       "    }\n",
       "\n",
       "    .dataframe tbody tr th {\n",
       "        vertical-align: top;\n",
       "    }\n",
       "\n",
       "    .dataframe thead th {\n",
       "        text-align: right;\n",
       "    }\n",
       "</style>\n",
       "<table border=\"1\" class=\"dataframe\">\n",
       "  <thead>\n",
       "    <tr style=\"text-align: right;\">\n",
       "      <th></th>\n",
       "      <th>param_lasso__alpha</th>\n",
       "      <th>mean_test_neg_mean_squared_error</th>\n",
       "      <th>mean_test_r2</th>\n",
       "    </tr>\n",
       "  </thead>\n",
       "  <tbody>\n",
       "    <tr>\n",
       "      <th>0</th>\n",
       "      <td>0.001</td>\n",
       "      <td>-158776.878847</td>\n",
       "      <td>0.563187</td>\n",
       "    </tr>\n",
       "    <tr>\n",
       "      <th>1</th>\n",
       "      <td>0.00774264</td>\n",
       "      <td>-158773.603925</td>\n",
       "      <td>0.563198</td>\n",
       "    </tr>\n",
       "    <tr>\n",
       "      <th>2</th>\n",
       "      <td>0.0599484</td>\n",
       "      <td>-158731.735357</td>\n",
       "      <td>0.563324</td>\n",
       "    </tr>\n",
       "    <tr>\n",
       "      <th>3</th>\n",
       "      <td>0.464159</td>\n",
       "      <td>-158559.968385</td>\n",
       "      <td>0.563885</td>\n",
       "    </tr>\n",
       "    <tr>\n",
       "      <th>4</th>\n",
       "      <td>3.59381</td>\n",
       "      <td>-159519.732475</td>\n",
       "      <td>0.561719</td>\n",
       "    </tr>\n",
       "    <tr>\n",
       "      <th>5</th>\n",
       "      <td>27.8256</td>\n",
       "      <td>-162581.508054</td>\n",
       "      <td>0.553798</td>\n",
       "    </tr>\n",
       "    <tr>\n",
       "      <th>6</th>\n",
       "      <td>215.443</td>\n",
       "      <td>-207418.558196</td>\n",
       "      <td>0.431612</td>\n",
       "    </tr>\n",
       "    <tr>\n",
       "      <th>7</th>\n",
       "      <td>1668.1</td>\n",
       "      <td>-363455.708787</td>\n",
       "      <td>-0.000784</td>\n",
       "    </tr>\n",
       "    <tr>\n",
       "      <th>8</th>\n",
       "      <td>12915.5</td>\n",
       "      <td>-363455.708787</td>\n",
       "      <td>-0.000784</td>\n",
       "    </tr>\n",
       "    <tr>\n",
       "      <th>9</th>\n",
       "      <td>100000</td>\n",
       "      <td>-363455.708787</td>\n",
       "      <td>-0.000784</td>\n",
       "    </tr>\n",
       "  </tbody>\n",
       "</table>\n",
       "</div>"
      ],
      "text/plain": [
       "  param_lasso__alpha  mean_test_neg_mean_squared_error  mean_test_r2\n",
       "0              0.001                    -158776.878847      0.563187\n",
       "1         0.00774264                    -158773.603925      0.563198\n",
       "2          0.0599484                    -158731.735357      0.563324\n",
       "3           0.464159                    -158559.968385      0.563885\n",
       "4            3.59381                    -159519.732475      0.561719\n",
       "5            27.8256                    -162581.508054      0.553798\n",
       "6            215.443                    -207418.558196      0.431612\n",
       "7             1668.1                    -363455.708787     -0.000784\n",
       "8            12915.5                    -363455.708787     -0.000784\n",
       "9             100000                    -363455.708787     -0.000784"
      ]
     },
     "execution_count": 54,
     "metadata": {},
     "output_type": "execute_result"
    }
   ],
   "source": [
    "warnings.filterwarnings('ignore')\n",
    "\n",
    "lasso_result1 = pd.DataFrame(lasso_grid1.cv_results_)[['param_lasso__alpha', 'mean_test_neg_mean_squared_error', \n",
    "                                     #'mean_test_neg_mean_squared_log_error',\n",
    "                                    'mean_test_r2']]\n",
    "lasso_result1"
   ]
  },
  {
   "cell_type": "markdown",
   "metadata": {},
   "source": [
    "## 5.2 Tree-based ensemble models"
   ]
  },
  {
   "cell_type": "code",
   "execution_count": 81,
   "metadata": {},
   "outputs": [],
   "source": [
    "X_train_tr = X_train.drop(labels = ['pickup_longitude', 'pickup_latitude', \n",
    "                                     'dropoff_longitude', 'dropoff_latitude'], \n",
    "                           axis = 1).tail(100000)\n",
    "y_train_tr = y_train.tail(100000)"
   ]
  },
  {
   "cell_type": "code",
   "execution_count": 82,
   "metadata": {},
   "outputs": [
    {
     "data": {
      "text/plain": [
       "Index(['passenger_count', 'pickup_longitude', 'pickup_latitude',\n",
       "       'dropoff_longitude', 'dropoff_latitude', 'mo', 'temp', 'visib', 'wdsp',\n",
       "       'gust', 'max', 'min', 'prcp', 'fog', 'rain_drizzle', 'snow_ice_pellets',\n",
       "       'haver_dist', 'man_dist', 'hour_of_day', 'day_of_week', 'work',\n",
       "       'weekday', 'pickup_cluster', 'dropoff_cluster', 'num_rides_pcluster',\n",
       "       'num_rides_dcluster', 'num_rides_ccluster'],\n",
       "      dtype='object')"
      ]
     },
     "execution_count": 82,
     "metadata": {},
     "output_type": "execute_result"
    }
   ],
   "source": [
    "X_train_tr.columns"
   ]
  },
  {
   "cell_type": "markdown",
   "metadata": {},
   "source": [
    "### Random Forest + OHE + TargetEncoder (done)"
   ]
  },
  {
   "cell_type": "code",
   "execution_count": 35,
   "metadata": {},
   "outputs": [],
   "source": [
    "rf_ohe_feat1 = ['mo', 'fog', 'rain_drizzle', 'snow_ice_pellets', 'day_of_week', 'work', 'weekday']\n",
    "rf_target_feat1 = ['pickup_cluster', 'dropoff_cluster', 'hour_of_day']\n",
    "\n",
    "rf_pre1 = make_column_transformer(\n",
    "    (OneHotEncoder(handle_unknown = 'ignore', sparse = False), rf_ohe_feat1),\n",
    "    (TargetEncoder(handle_unknown = 'ignore'), rf_target_feat1),\n",
    "    remainder='passthrough')"
   ]
  },
  {
   "cell_type": "code",
   "execution_count": 36,
   "metadata": {},
   "outputs": [],
   "source": [
    "# fit random forest\n",
    "rf_pipe1 = make_pipeline(rf_pre1, RandomForestRegressor())\n",
    "rf_params_grid1 = {'randomforestregressor__n_estimators': [100, 200, 300],\n",
    "                  'randomforestregressor__max_features': [0.7, 0.8, 0.9]}\n",
    "rf_grid1 = GridSearchCV(rf_pipe1, rf_params_grid1, cv=3, refit = 'neg_mean_squared_error', n_jobs = -1,\n",
    "                       scoring = ['neg_mean_squared_error', \n",
    "                                  'neg_mean_squared_log_error',\n",
    "                                  'r2'])"
   ]
  },
  {
   "cell_type": "code",
   "execution_count": 37,
   "metadata": {},
   "outputs": [
    {
     "name": "stdout",
     "output_type": "stream",
     "text": [
      "CPU times: user 3min 24s, sys: 2.4 s, total: 3min 27s\n",
      "Wall time: 34min 50s\n"
     ]
    },
    {
     "data": {
      "text/plain": [
       "GridSearchCV(cv=3, error_score='raise-deprecating',\n",
       "       estimator=Pipeline(memory=None,\n",
       "     steps=[('columntransformer', ColumnTransformer(n_jobs=None, remainder='passthrough', sparse_threshold=0.3,\n",
       "         transformer_weights=None,\n",
       "         transformers=[('onehotencoder', OneHotEncoder(categorical_features=None, categories=None,\n",
       "       dtype=<class 'numpy.float64'>, handle_unknown='ignor...s='warn', n_jobs=None,\n",
       "           oob_score=False, random_state=None, verbose=0, warm_start=False))]),\n",
       "       fit_params=None, iid='warn', n_jobs=-1,\n",
       "       param_grid={'randomforestregressor__n_estimators': [100, 200, 300], 'randomforestregressor__max_features': [0.7, 0.8, 0.9]},\n",
       "       pre_dispatch='2*n_jobs', refit='neg_mean_squared_error',\n",
       "       return_train_score='warn',\n",
       "       scoring=['neg_mean_squared_error', 'neg_mean_squared_log_error', 'r2'],\n",
       "       verbose=0)"
      ]
     },
     "execution_count": 37,
     "metadata": {},
     "output_type": "execute_result"
    }
   ],
   "source": [
    "%%time\n",
    "\n",
    "rf_grid1.fit(X_train_tr, y_train_tr)"
   ]
  },
  {
   "cell_type": "code",
   "execution_count": 38,
   "metadata": {},
   "outputs": [
    {
     "data": {
      "text/plain": [
       "['rf_grid1.joblib']"
      ]
     },
     "execution_count": 38,
     "metadata": {},
     "output_type": "execute_result"
    }
   ],
   "source": [
    "# save model to joblib\n",
    "dump(rf_grid1, 'rf_grid1.joblib')\n",
    "#clf = load('filename.joblib') "
   ]
  },
  {
   "cell_type": "code",
   "execution_count": 39,
   "metadata": {},
   "outputs": [
    {
     "data": {
      "text/plain": [
       "{'randomforestregressor__max_features': 0.7,\n",
       " 'randomforestregressor__n_estimators': 200}"
      ]
     },
     "execution_count": 39,
     "metadata": {},
     "output_type": "execute_result"
    }
   ],
   "source": [
    "rf_grid1.best_params_"
   ]
  },
  {
   "cell_type": "code",
   "execution_count": 40,
   "metadata": {},
   "outputs": [
    {
     "data": {
      "text/plain": [
       "-108311.57550786324"
      ]
     },
     "execution_count": 40,
     "metadata": {},
     "output_type": "execute_result"
    }
   ],
   "source": [
    "rf_grid1.best_score_"
   ]
  },
  {
   "cell_type": "code",
   "execution_count": 41,
   "metadata": {},
   "outputs": [
    {
     "data": {
      "text/html": [
       "<div>\n",
       "<style scoped>\n",
       "    .dataframe tbody tr th:only-of-type {\n",
       "        vertical-align: middle;\n",
       "    }\n",
       "\n",
       "    .dataframe tbody tr th {\n",
       "        vertical-align: top;\n",
       "    }\n",
       "\n",
       "    .dataframe thead th {\n",
       "        text-align: right;\n",
       "    }\n",
       "</style>\n",
       "<table border=\"1\" class=\"dataframe\">\n",
       "  <thead>\n",
       "    <tr style=\"text-align: right;\">\n",
       "      <th></th>\n",
       "      <th>param_randomforestregressor__max_features</th>\n",
       "      <th>param_randomforestregressor__n_estimators</th>\n",
       "      <th>mean_test_neg_mean_squared_error</th>\n",
       "      <th>mean_test_neg_mean_squared_log_error</th>\n",
       "      <th>mean_test_r2</th>\n",
       "    </tr>\n",
       "  </thead>\n",
       "  <tbody>\n",
       "    <tr>\n",
       "      <th>0</th>\n",
       "      <td>0.7</td>\n",
       "      <td>100</td>\n",
       "      <td>-108780.106365</td>\n",
       "      <td>-0.158181</td>\n",
       "      <td>0.756900</td>\n",
       "    </tr>\n",
       "    <tr>\n",
       "      <th>1</th>\n",
       "      <td>0.7</td>\n",
       "      <td>200</td>\n",
       "      <td>-108311.575508</td>\n",
       "      <td>-0.157426</td>\n",
       "      <td>0.757906</td>\n",
       "    </tr>\n",
       "    <tr>\n",
       "      <th>2</th>\n",
       "      <td>0.7</td>\n",
       "      <td>300</td>\n",
       "      <td>-108613.121181</td>\n",
       "      <td>-0.158415</td>\n",
       "      <td>0.757266</td>\n",
       "    </tr>\n",
       "    <tr>\n",
       "      <th>3</th>\n",
       "      <td>0.8</td>\n",
       "      <td>100</td>\n",
       "      <td>-109996.965066</td>\n",
       "      <td>-0.158432</td>\n",
       "      <td>0.753968</td>\n",
       "    </tr>\n",
       "    <tr>\n",
       "      <th>4</th>\n",
       "      <td>0.8</td>\n",
       "      <td>200</td>\n",
       "      <td>-110027.729652</td>\n",
       "      <td>-0.161279</td>\n",
       "      <td>0.754268</td>\n",
       "    </tr>\n",
       "    <tr>\n",
       "      <th>5</th>\n",
       "      <td>0.8</td>\n",
       "      <td>300</td>\n",
       "      <td>-109243.902910</td>\n",
       "      <td>-0.158631</td>\n",
       "      <td>0.755779</td>\n",
       "    </tr>\n",
       "    <tr>\n",
       "      <th>6</th>\n",
       "      <td>0.9</td>\n",
       "      <td>100</td>\n",
       "      <td>-111002.409712</td>\n",
       "      <td>-0.160654</td>\n",
       "      <td>0.751899</td>\n",
       "    </tr>\n",
       "    <tr>\n",
       "      <th>7</th>\n",
       "      <td>0.9</td>\n",
       "      <td>200</td>\n",
       "      <td>-110416.212409</td>\n",
       "      <td>-0.159462</td>\n",
       "      <td>0.753179</td>\n",
       "    </tr>\n",
       "    <tr>\n",
       "      <th>8</th>\n",
       "      <td>0.9</td>\n",
       "      <td>300</td>\n",
       "      <td>-109712.374797</td>\n",
       "      <td>-0.158679</td>\n",
       "      <td>0.754674</td>\n",
       "    </tr>\n",
       "  </tbody>\n",
       "</table>\n",
       "</div>"
      ],
      "text/plain": [
       "  param_randomforestregressor__max_features  \\\n",
       "0                                       0.7   \n",
       "1                                       0.7   \n",
       "2                                       0.7   \n",
       "3                                       0.8   \n",
       "4                                       0.8   \n",
       "5                                       0.8   \n",
       "6                                       0.9   \n",
       "7                                       0.9   \n",
       "8                                       0.9   \n",
       "\n",
       "  param_randomforestregressor__n_estimators  mean_test_neg_mean_squared_error  \\\n",
       "0                                       100                    -108780.106365   \n",
       "1                                       200                    -108311.575508   \n",
       "2                                       300                    -108613.121181   \n",
       "3                                       100                    -109996.965066   \n",
       "4                                       200                    -110027.729652   \n",
       "5                                       300                    -109243.902910   \n",
       "6                                       100                    -111002.409712   \n",
       "7                                       200                    -110416.212409   \n",
       "8                                       300                    -109712.374797   \n",
       "\n",
       "   mean_test_neg_mean_squared_log_error  mean_test_r2  \n",
       "0                             -0.158181      0.756900  \n",
       "1                             -0.157426      0.757906  \n",
       "2                             -0.158415      0.757266  \n",
       "3                             -0.158432      0.753968  \n",
       "4                             -0.161279      0.754268  \n",
       "5                             -0.158631      0.755779  \n",
       "6                             -0.160654      0.751899  \n",
       "7                             -0.159462      0.753179  \n",
       "8                             -0.158679      0.754674  "
      ]
     },
     "execution_count": 41,
     "metadata": {},
     "output_type": "execute_result"
    }
   ],
   "source": [
    "warnings.filterwarnings('ignore')\n",
    "\n",
    "rf_result1 = pd.DataFrame(rf_grid1.cv_results_)[['param_randomforestregressor__max_features', \n",
    "                                                'param_randomforestregressor__n_estimators', \n",
    "                                                'mean_test_neg_mean_squared_error', \n",
    "                                                'mean_test_neg_mean_squared_log_error',\n",
    "                                                'mean_test_r2']]\n",
    "rf_result1"
   ]
  },
  {
   "cell_type": "markdown",
   "metadata": {},
   "source": [
    "### XGboost + only OHE (done)"
   ]
  },
  {
   "cell_type": "code",
   "execution_count": 653,
   "metadata": {},
   "outputs": [],
   "source": [
    "# no preprocessing other than ohe\n",
    "tr_ohe_feat1 = ['mo', 'fog', 'rain_drizzle', 'snow_ice_pellets', 'day_of_week', 'work', 'weekday',\n",
    "                'pickup_cluster', 'dropoff_cluster', 'hour_of_day']\n",
    "tr_pre1 = make_column_transformer((OneHotEncoder(handle_unknown = 'ignore', sparse = False), tr_ohe_feat1),\n",
    "                                 remainder='passthrough')"
   ]
  },
  {
   "cell_type": "code",
   "execution_count": 654,
   "metadata": {},
   "outputs": [],
   "source": [
    "xg_pipe1 = make_pipeline(tr_pre1, XGBRegressor())\n",
    "xg_params_grid1 = {'xgbregressor__max_depth': [10, 15, 20],\n",
    "                   'xgbregressor__min_child_weight': [10, 20, 30]}\n",
    "xg_grid1 = GridSearchCV(xg_pipe1, xg_params_grid1, cv=3, refit = 'neg_mean_squared_error', n_jobs = -1,\n",
    "                       scoring = ['neg_mean_squared_error', \n",
    "                                  #'neg_mean_squared_log_error',\n",
    "                                  'r2'])"
   ]
  },
  {
   "cell_type": "code",
   "execution_count": 655,
   "metadata": {},
   "outputs": [
    {
     "name": "stdout",
     "output_type": "stream",
     "text": [
      "CPU times: user 3min 41s, sys: 2.66 s, total: 3min 44s\n",
      "Wall time: 39min 6s\n"
     ]
    },
    {
     "data": {
      "text/plain": [
       "GridSearchCV(cv=3, error_score='raise-deprecating',\n",
       "       estimator=Pipeline(memory=None,\n",
       "     steps=[('columntransformer', ColumnTransformer(n_jobs=None, remainder='passthrough', sparse_threshold=0.3,\n",
       "         transformer_weights=None,\n",
       "         transformers=[('onehotencoder', OneHotEncoder(categorical_features=None, categories=None,\n",
       "       dtype=<class 'numpy.float64'>, handle_unknown='ignor... reg_alpha=0,\n",
       "       reg_lambda=1, scale_pos_weight=1, seed=None, silent=True,\n",
       "       subsample=1))]),\n",
       "       fit_params=None, iid='warn', n_jobs=-1,\n",
       "       param_grid={'xgbregressor__max_depth': [10, 15, 20], 'xgbregressor__min_child_weight': [10, 20, 30]},\n",
       "       pre_dispatch='2*n_jobs', refit='neg_mean_squared_error',\n",
       "       return_train_score='warn', scoring=['neg_mean_squared_error', 'r2'],\n",
       "       verbose=0)"
      ]
     },
     "execution_count": 655,
     "metadata": {},
     "output_type": "execute_result"
    }
   ],
   "source": [
    "%%time\n",
    "xg_grid1.fit(X_train_tr, y_train_tr)"
   ]
  },
  {
   "cell_type": "code",
   "execution_count": 656,
   "metadata": {},
   "outputs": [
    {
     "data": {
      "text/plain": [
       "['xg_grid1.joblib']"
      ]
     },
     "execution_count": 656,
     "metadata": {},
     "output_type": "execute_result"
    }
   ],
   "source": [
    "# save model to joblib\n",
    "dump(xg_grid1, 'xg_grid1.joblib')\n",
    "#clf = load('filename.joblib') "
   ]
  },
  {
   "cell_type": "code",
   "execution_count": 657,
   "metadata": {},
   "outputs": [
    {
     "data": {
      "text/plain": [
       "{'xgbregressor__max_depth': 15, 'xgbregressor__min_child_weight': 30}"
      ]
     },
     "execution_count": 657,
     "metadata": {},
     "output_type": "execute_result"
    }
   ],
   "source": [
    "xg_grid1.best_params_"
   ]
  },
  {
   "cell_type": "code",
   "execution_count": 658,
   "metadata": {},
   "outputs": [
    {
     "data": {
      "text/plain": [
       "-106615.32371894142"
      ]
     },
     "execution_count": 658,
     "metadata": {},
     "output_type": "execute_result"
    }
   ],
   "source": [
    "xg_grid1.best_score_"
   ]
  },
  {
   "cell_type": "code",
   "execution_count": 659,
   "metadata": {},
   "outputs": [
    {
     "data": {
      "text/plain": [
       "-154107.97800224752"
      ]
     },
     "execution_count": 659,
     "metadata": {},
     "output_type": "execute_result"
    }
   ],
   "source": [
    "xg_grid1.score(X_test, y_test)"
   ]
  },
  {
   "cell_type": "code",
   "execution_count": 660,
   "metadata": {},
   "outputs": [
    {
     "data": {
      "text/html": [
       "<div>\n",
       "<style scoped>\n",
       "    .dataframe tbody tr th:only-of-type {\n",
       "        vertical-align: middle;\n",
       "    }\n",
       "\n",
       "    .dataframe tbody tr th {\n",
       "        vertical-align: top;\n",
       "    }\n",
       "\n",
       "    .dataframe thead th {\n",
       "        text-align: right;\n",
       "    }\n",
       "</style>\n",
       "<table border=\"1\" class=\"dataframe\">\n",
       "  <thead>\n",
       "    <tr style=\"text-align: right;\">\n",
       "      <th></th>\n",
       "      <th>param_xgbregressor__max_depth</th>\n",
       "      <th>param_xgbregressor__min_child_weight</th>\n",
       "      <th>mean_test_neg_mean_squared_error</th>\n",
       "      <th>mean_test_r2</th>\n",
       "    </tr>\n",
       "  </thead>\n",
       "  <tbody>\n",
       "    <tr>\n",
       "      <th>0</th>\n",
       "      <td>10</td>\n",
       "      <td>10</td>\n",
       "      <td>-107570.437095</td>\n",
       "      <td>0.759445</td>\n",
       "    </tr>\n",
       "    <tr>\n",
       "      <th>1</th>\n",
       "      <td>10</td>\n",
       "      <td>20</td>\n",
       "      <td>-107485.455627</td>\n",
       "      <td>0.760027</td>\n",
       "    </tr>\n",
       "    <tr>\n",
       "      <th>2</th>\n",
       "      <td>10</td>\n",
       "      <td>30</td>\n",
       "      <td>-107787.477562</td>\n",
       "      <td>0.759484</td>\n",
       "    </tr>\n",
       "    <tr>\n",
       "      <th>3</th>\n",
       "      <td>15</td>\n",
       "      <td>10</td>\n",
       "      <td>-108679.835036</td>\n",
       "      <td>0.756963</td>\n",
       "    </tr>\n",
       "    <tr>\n",
       "      <th>4</th>\n",
       "      <td>15</td>\n",
       "      <td>20</td>\n",
       "      <td>-107469.899916</td>\n",
       "      <td>0.759830</td>\n",
       "    </tr>\n",
       "    <tr>\n",
       "      <th>5</th>\n",
       "      <td>15</td>\n",
       "      <td>30</td>\n",
       "      <td>-106615.323719</td>\n",
       "      <td>0.761689</td>\n",
       "    </tr>\n",
       "    <tr>\n",
       "      <th>6</th>\n",
       "      <td>20</td>\n",
       "      <td>10</td>\n",
       "      <td>-109788.689964</td>\n",
       "      <td>0.754586</td>\n",
       "    </tr>\n",
       "    <tr>\n",
       "      <th>7</th>\n",
       "      <td>20</td>\n",
       "      <td>20</td>\n",
       "      <td>-108476.000347</td>\n",
       "      <td>0.757508</td>\n",
       "    </tr>\n",
       "    <tr>\n",
       "      <th>8</th>\n",
       "      <td>20</td>\n",
       "      <td>30</td>\n",
       "      <td>-107283.524675</td>\n",
       "      <td>0.760330</td>\n",
       "    </tr>\n",
       "  </tbody>\n",
       "</table>\n",
       "</div>"
      ],
      "text/plain": [
       "  param_xgbregressor__max_depth param_xgbregressor__min_child_weight  \\\n",
       "0                            10                                   10   \n",
       "1                            10                                   20   \n",
       "2                            10                                   30   \n",
       "3                            15                                   10   \n",
       "4                            15                                   20   \n",
       "5                            15                                   30   \n",
       "6                            20                                   10   \n",
       "7                            20                                   20   \n",
       "8                            20                                   30   \n",
       "\n",
       "   mean_test_neg_mean_squared_error  mean_test_r2  \n",
       "0                    -107570.437095      0.759445  \n",
       "1                    -107485.455627      0.760027  \n",
       "2                    -107787.477562      0.759484  \n",
       "3                    -108679.835036      0.756963  \n",
       "4                    -107469.899916      0.759830  \n",
       "5                    -106615.323719      0.761689  \n",
       "6                    -109788.689964      0.754586  \n",
       "7                    -108476.000347      0.757508  \n",
       "8                    -107283.524675      0.760330  "
      ]
     },
     "execution_count": 660,
     "metadata": {},
     "output_type": "execute_result"
    }
   ],
   "source": [
    "warnings.filterwarnings('ignore')\n",
    "\n",
    "xg_result1 = pd.DataFrame(xg_grid1.cv_results_)[['param_xgbregressor__max_depth', \n",
    "                                                'param_xgbregressor__min_child_weight', \n",
    "                                                #'mean_test_neg_mean_squared_error', \n",
    "                                                'mean_test_neg_mean_squared_error',\n",
    "                                                'mean_test_r2']]\n",
    "xg_result1"
   ]
  },
  {
   "cell_type": "markdown",
   "metadata": {},
   "source": [
    "### XGboost + OHE + target encoder (done)"
   ]
  },
  {
   "cell_type": "code",
   "execution_count": 4,
   "metadata": {},
   "outputs": [],
   "source": [
    "tr_ohe_feat2 = ['mo', 'fog', 'rain_drizzle', 'snow_ice_pellets', 'day_of_week', 'work', 'weekday']\n",
    "tr_target_feat2 = ['pickup_cluster', 'dropoff_cluster', 'hour_of_day']\n",
    "\n",
    "tr_pre2 = make_column_transformer(\n",
    "    (OneHotEncoder(handle_unknown = 'ignore', sparse = False), tr_ohe_feat2),\n",
    "    (TargetEncoder(handle_unknown = 'ignore'), tr_target_feat2),\n",
    "    remainder='passthrough')"
   ]
  },
  {
   "cell_type": "code",
   "execution_count": 8,
   "metadata": {},
   "outputs": [],
   "source": [
    "xg_pipe2 = make_pipeline(tr_pre2, XGBRegressor())\n",
    "xg_params_grid2 = {'xgbregressor__max_depth': [15, 10, 25],\n",
    "              'xgbregressor__min_child_weight': [10, 20, 30]}\n",
    "xg_grid2 = GridSearchCV(xg_pipe2, xg_params_grid2, cv=3, n_jobs = -1,\n",
    "                        refit = 'neg_mean_squared_error', \n",
    "                        scoring = ['neg_mean_squared_error', \n",
    "                                  #'neg_mean_squared_log_error',\n",
    "                                  'r2'])"
   ]
  },
  {
   "cell_type": "code",
   "execution_count": 11,
   "metadata": {},
   "outputs": [
    {
     "name": "stderr",
     "output_type": "stream",
     "text": [
      "/Applications/anaconda3/lib/python3.7/site-packages/xgboost/core.py:587: FutureWarning: Series.base is deprecated and will be removed in a future version\n",
      "  if getattr(data, 'base', None) is not None and \\\n",
      "/Applications/anaconda3/lib/python3.7/site-packages/xgboost/core.py:588: FutureWarning: Series.base is deprecated and will be removed in a future version\n",
      "  data.base is not None and isinstance(data, np.ndarray) \\\n"
     ]
    },
    {
     "name": "stdout",
     "output_type": "stream",
     "text": [
      "CPU times: user 40.2 s, sys: 906 ms, total: 41.1 s\n",
      "Wall time: 11min\n"
     ]
    },
    {
     "data": {
      "text/plain": [
       "GridSearchCV(cv=3, error_score='raise-deprecating',\n",
       "       estimator=Pipeline(memory=None,\n",
       "     steps=[('columntransformer', ColumnTransformer(n_jobs=None, remainder='passthrough', sparse_threshold=0.3,\n",
       "         transformer_weights=None,\n",
       "         transformers=[('onehotencoder', OneHotEncoder(categorical_features=None, categories=None,\n",
       "       dtype=<class 'numpy.float64'>, handle_unknown='ignor... reg_alpha=0,\n",
       "       reg_lambda=1, scale_pos_weight=1, seed=None, silent=True,\n",
       "       subsample=1))]),\n",
       "       fit_params=None, iid='warn', n_jobs=-1,\n",
       "       param_grid={'xgbregressor__max_depth': [15, 10, 25], 'xgbregressor__min_child_weight': [10, 20, 30]},\n",
       "       pre_dispatch='2*n_jobs', refit='neg_mean_squared_error',\n",
       "       return_train_score='warn', scoring=['neg_mean_squared_error', 'r2'],\n",
       "       verbose=0)"
      ]
     },
     "execution_count": 11,
     "metadata": {},
     "output_type": "execute_result"
    }
   ],
   "source": [
    "%%time\n",
    "xg_grid2.fit(X_train_tr, y_train_tr)"
   ]
  },
  {
   "cell_type": "code",
   "execution_count": 12,
   "metadata": {},
   "outputs": [
    {
     "data": {
      "text/plain": [
       "['xg_grid2.joblib']"
      ]
     },
     "execution_count": 12,
     "metadata": {},
     "output_type": "execute_result"
    }
   ],
   "source": [
    "# save model to joblib\n",
    "dump(xg_grid2, 'xg_grid2.joblib')\n",
    "#clf = load('filename.joblib') "
   ]
  },
  {
   "cell_type": "code",
   "execution_count": 13,
   "metadata": {},
   "outputs": [
    {
     "data": {
      "text/plain": [
       "{'xgbregressor__max_depth': 10, 'xgbregressor__min_child_weight': 30}"
      ]
     },
     "execution_count": 13,
     "metadata": {},
     "output_type": "execute_result"
    }
   ],
   "source": [
    "xg_grid2.best_params_"
   ]
  },
  {
   "cell_type": "code",
   "execution_count": 14,
   "metadata": {},
   "outputs": [
    {
     "data": {
      "text/plain": [
       "-102368.98015886488"
      ]
     },
     "execution_count": 14,
     "metadata": {},
     "output_type": "execute_result"
    }
   ],
   "source": [
    "xg_grid2.best_score_"
   ]
  },
  {
   "cell_type": "code",
   "execution_count": 15,
   "metadata": {},
   "outputs": [
    {
     "data": {
      "text/plain": [
       "-140185.9996590946"
      ]
     },
     "execution_count": 15,
     "metadata": {},
     "output_type": "execute_result"
    }
   ],
   "source": [
    "xg_grid2.score(X_test, y_test)"
   ]
  },
  {
   "cell_type": "code",
   "execution_count": 16,
   "metadata": {},
   "outputs": [
    {
     "data": {
      "text/html": [
       "<div>\n",
       "<style scoped>\n",
       "    .dataframe tbody tr th:only-of-type {\n",
       "        vertical-align: middle;\n",
       "    }\n",
       "\n",
       "    .dataframe tbody tr th {\n",
       "        vertical-align: top;\n",
       "    }\n",
       "\n",
       "    .dataframe thead th {\n",
       "        text-align: right;\n",
       "    }\n",
       "</style>\n",
       "<table border=\"1\" class=\"dataframe\">\n",
       "  <thead>\n",
       "    <tr style=\"text-align: right;\">\n",
       "      <th></th>\n",
       "      <th>param_xgbregressor__max_depth</th>\n",
       "      <th>param_xgbregressor__min_child_weight</th>\n",
       "      <th>mean_test_neg_mean_squared_error</th>\n",
       "      <th>mean_test_r2</th>\n",
       "    </tr>\n",
       "  </thead>\n",
       "  <tbody>\n",
       "    <tr>\n",
       "      <th>0</th>\n",
       "      <td>15</td>\n",
       "      <td>10</td>\n",
       "      <td>-106362.352181</td>\n",
       "      <td>0.762192</td>\n",
       "    </tr>\n",
       "    <tr>\n",
       "      <th>1</th>\n",
       "      <td>15</td>\n",
       "      <td>20</td>\n",
       "      <td>-104077.776087</td>\n",
       "      <td>0.767168</td>\n",
       "    </tr>\n",
       "    <tr>\n",
       "      <th>2</th>\n",
       "      <td>15</td>\n",
       "      <td>30</td>\n",
       "      <td>-102992.388587</td>\n",
       "      <td>0.769598</td>\n",
       "    </tr>\n",
       "    <tr>\n",
       "      <th>3</th>\n",
       "      <td>10</td>\n",
       "      <td>10</td>\n",
       "      <td>-103924.321197</td>\n",
       "      <td>0.767564</td>\n",
       "    </tr>\n",
       "    <tr>\n",
       "      <th>4</th>\n",
       "      <td>10</td>\n",
       "      <td>20</td>\n",
       "      <td>-103218.794775</td>\n",
       "      <td>0.769149</td>\n",
       "    </tr>\n",
       "    <tr>\n",
       "      <th>5</th>\n",
       "      <td>10</td>\n",
       "      <td>30</td>\n",
       "      <td>-102368.980159</td>\n",
       "      <td>0.771106</td>\n",
       "    </tr>\n",
       "    <tr>\n",
       "      <th>6</th>\n",
       "      <td>25</td>\n",
       "      <td>10</td>\n",
       "      <td>-108091.970081</td>\n",
       "      <td>0.758372</td>\n",
       "    </tr>\n",
       "    <tr>\n",
       "      <th>7</th>\n",
       "      <td>25</td>\n",
       "      <td>20</td>\n",
       "      <td>-105046.798502</td>\n",
       "      <td>0.764987</td>\n",
       "    </tr>\n",
       "    <tr>\n",
       "      <th>8</th>\n",
       "      <td>25</td>\n",
       "      <td>30</td>\n",
       "      <td>-102952.495024</td>\n",
       "      <td>0.769606</td>\n",
       "    </tr>\n",
       "  </tbody>\n",
       "</table>\n",
       "</div>"
      ],
      "text/plain": [
       "  param_xgbregressor__max_depth param_xgbregressor__min_child_weight  \\\n",
       "0                            15                                   10   \n",
       "1                            15                                   20   \n",
       "2                            15                                   30   \n",
       "3                            10                                   10   \n",
       "4                            10                                   20   \n",
       "5                            10                                   30   \n",
       "6                            25                                   10   \n",
       "7                            25                                   20   \n",
       "8                            25                                   30   \n",
       "\n",
       "   mean_test_neg_mean_squared_error  mean_test_r2  \n",
       "0                    -106362.352181      0.762192  \n",
       "1                    -104077.776087      0.767168  \n",
       "2                    -102992.388587      0.769598  \n",
       "3                    -103924.321197      0.767564  \n",
       "4                    -103218.794775      0.769149  \n",
       "5                    -102368.980159      0.771106  \n",
       "6                    -108091.970081      0.758372  \n",
       "7                    -105046.798502      0.764987  \n",
       "8                    -102952.495024      0.769606  "
      ]
     },
     "execution_count": 16,
     "metadata": {},
     "output_type": "execute_result"
    }
   ],
   "source": [
    "warnings.filterwarnings('ignore')\n",
    "\n",
    "xg_result2 = pd.DataFrame(xg_grid2.cv_results_)[['param_xgbregressor__max_depth', \n",
    "                                                'param_xgbregressor__min_child_weight', \n",
    "                                                #'mean_test_neg_mean_squared_error', \n",
    "                                                'mean_test_neg_mean_squared_error',\n",
    "                                                'mean_test_r2']]\n",
    "xg_result2"
   ]
  },
  {
   "cell_type": "markdown",
   "metadata": {},
   "source": [
    "# Best model among the 7 is the XGBoost + OHE + Target Encoding. Will use this for predictions"
   ]
  }
 ],
 "metadata": {
  "kernelspec": {
   "display_name": "Python 3",
   "language": "python",
   "name": "python3"
  },
  "language_info": {
   "codemirror_mode": {
    "name": "ipython",
    "version": 3
   },
   "file_extension": ".py",
   "mimetype": "text/x-python",
   "name": "python",
   "nbconvert_exporter": "python",
   "pygments_lexer": "ipython3",
   "version": "3.7.2"
  }
 },
 "nbformat": 4,
 "nbformat_minor": 2
}
