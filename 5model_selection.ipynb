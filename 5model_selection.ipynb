{
 "cells": [
  {
   "cell_type": "code",
   "execution_count": 32,
   "metadata": {},
   "outputs": [],
   "source": [
    "import pandas as pd\n",
    "import os\n",
    "import matplotlib.pyplot as plt\n",
    "import seaborn as sns\n",
    "import numpy as np\n",
    "import pickle\n",
    "from sklearn.metrics import mean_squared_error, r2_score\n",
    "from math import sqrt, log\n",
    "import warnings\n",
    "from joblib import dump, load"
   ]
  },
  {
   "cell_type": "code",
   "execution_count": 281,
   "metadata": {},
   "outputs": [],
   "source": [
    "train = pd.read_pickle(\"/Users/liyannie/Desktop/Sp_2019_courses/DS_Indus/project/liyan/train.pkl\")\n",
    "test = pd.read_pickle(\"/Users/liyannie/Desktop/Sp_2019_courses/DS_Indus/project/liyan/test.pkl\")"
   ]
  },
  {
   "cell_type": "code",
   "execution_count": 282,
   "metadata": {},
   "outputs": [
    {
     "data": {
      "text/plain": [
       "Index(['passenger_count', 'pickup_longitude', 'pickup_latitude',\n",
       "       'dropoff_longitude', 'dropoff_latitude', 'travel_time', 'mo', 'temp',\n",
       "       'visib', 'wdsp', 'gust', 'max', 'min', 'prcp', 'fog', 'rain_drizzle',\n",
       "       'snow_ice_pellets', 'haver_dist', 'man_dist', 'hour_of_day',\n",
       "       'day_of_week', 'work', 'weekday', 'pickup_cluster', 'dropoff_cluster',\n",
       "       'num_rides_pcluster', 'num_rides_dcluster', 'num_rides_ccluster'],\n",
       "      dtype='object')"
      ]
     },
     "execution_count": 282,
     "metadata": {},
     "output_type": "execute_result"
    }
   ],
   "source": [
    "train.columns"
   ]
  },
  {
   "cell_type": "markdown",
   "metadata": {},
   "source": [
    "# Load saved models"
   ]
  },
  {
   "cell_type": "code",
   "execution_count": 122,
   "metadata": {},
   "outputs": [],
   "source": [
    "# do not take lat/lon\n",
    "ridge_grid1 = load('ridge_grid1.joblib') # ridge + OHE\n",
    "ridge_grid2 = load('ridge_grid2.joblib') # ridge + OHE + target + interaction\n",
    "ridge_grid3 = load('ridge_grid3.joblib') # Ridge + OHE + target + Power + Scaling\n",
    "lasso_grid1 = load('lasso_grid1.joblib') # lasso + OHE + target + power + scaling\n",
    "\n",
    "# take all inputs\n",
    "xg_grid1 = load('xg_grid1.joblib') # xg + OHE\n",
    "xg_grid2 = load('xg_grid2.joblib') # xg + oHE + target\n",
    "rf_grid1 = load('rf_grid1.joblib') # RF + OHE + target"
   ]
  },
  {
   "cell_type": "code",
   "execution_count": 35,
   "metadata": {},
   "outputs": [],
   "source": [
    "X_train = train.loc[:, train.columns != 'travel_time']\n",
    "y_train = train['travel_time']\n",
    "X_test = test.loc[:, train.columns != 'travel_time']\n",
    "y_test = test['travel_time']"
   ]
  },
  {
   "cell_type": "markdown",
   "metadata": {},
   "source": [
    "# Define functions\n",
    "- scoring functions. Only random forest has RMSLE.\n",
    "- coef visualization"
   ]
  },
  {
   "cell_type": "code",
   "execution_count": 80,
   "metadata": {},
   "outputs": [],
   "source": [
    "def scores1(model, X_test):\n",
    "    y_pred = model.predict(X_test)\n",
    "    rmse = sqrt(mean_squared_error(y_test, y_pred))\n",
    "    r2 = r2_score(y_test, y_pred)\n",
    "    print('Test RMSE = {}'.format(rmse))\n",
    "    print('Test R2 = {}'.format(r2))\n",
    "    \n",
    "    return rmse, r2"
   ]
  },
  {
   "cell_type": "code",
   "execution_count": 81,
   "metadata": {},
   "outputs": [],
   "source": [
    "def rmsle(y_true, y_pred):\n",
    "    assert len(y_true) == len(y_pred)\n",
    "    terms_to_sum = [(log(y_pred[i] + 1) - log(y_true[i] + 1)) ** 2.0 for i,pred in enumerate(y_pred)]\n",
    "    return (sum(terms_to_sum) * (1.0/len(y_true))) ** 0.5"
   ]
  },
  {
   "cell_type": "code",
   "execution_count": 64,
   "metadata": {},
   "outputs": [],
   "source": [
    "def scores2(model, X_test):\n",
    "    y_pred = model.predict(X_test)\n",
    "    rmse = sqrt(mean_squared_error(y_test, y_pred))\n",
    "    rmsle1 = rmsle(y_test, y_pred)\n",
    "    r2 = r2_score(y_test, y_pred)\n",
    "    print('Test RMSE = {}'.format(rmse))\n",
    "    print('Test RMSLE = {}'.format(rmsle1))\n",
    "    print('Test R2 = {}'.format(r2))\n",
    "    \n",
    "    return rmse, rmsle1, r2"
   ]
  },
  {
   "cell_type": "code",
   "execution_count": 244,
   "metadata": {},
   "outputs": [],
   "source": [
    "def plot_coef(coef, feature_names, title, top_features=10):\n",
    "    coef1 = coef.ravel()\n",
    "    top_positive_coefficients = np.argsort(coef1)[-top_features:]\n",
    "    top_negative_coefficients = np.argsort(coef1)[:top_features]\n",
    "    top_coefficients = np.hstack([top_negative_coefficients, top_positive_coefficients])\n",
    "    plt.figure(figsize=(10, 5))\n",
    "    colors = ['red' if c < 0 else 'blue' for c in coef[top_coefficients]] \n",
    "    plt.bar(np.arange(2 * top_features), coef[top_coefficients], color=colors)\n",
    "    feature_names = np.array(feature_names)\n",
    "    plt.xticks(np.arange(1, 2 * top_features), \n",
    "               feature_names[top_coefficients], \n",
    "               rotation=60, ha ='right')\n",
    "    plt.subplots_adjust(bottom=0.1)\n",
    "    plt.title(title)\n",
    "    plt.show()"
   ]
  },
  {
   "cell_type": "code",
   "execution_count": 255,
   "metadata": {},
   "outputs": [],
   "source": [
    "def plot_feat_imp(coef, feature_names, title, top_features=10):\n",
    "    coef1 = coef.ravel()\n",
    "    top_coefficients = np.argsort(coef1)[-top_features:]\n",
    "    plt.figure(figsize=(10, 5))\n",
    "    plt.bar(np.arange(top_features), coef[top_coefficients], color = 'pink')\n",
    "    feature_names = np.array(feature_names)\n",
    "    plt.xticks(np.arange(1, top_features), \n",
    "               feature_names[top_coefficients], \n",
    "               rotation=60, ha ='right')\n",
    "    plt.subplots_adjust(bottom=0.1)\n",
    "    plt.title(title)\n",
    "    plt.show()"
   ]
  },
  {
   "cell_type": "code",
   "execution_count": 68,
   "metadata": {},
   "outputs": [],
   "source": [
    "def cv_result1(model, param_name):\n",
    "    warnings.filterwarnings('ignore')\n",
    "    result = pd.DataFrame(model.cv_results_)[[param_name, \n",
    "                                              'mean_test_neg_mean_squared_error', \n",
    "                                               'mean_test_r2']]\n",
    "    result['RMSE'] = result['mean_test_neg_mean_squared_error'].apply(lambda x: sqrt(-x))\n",
    "    \n",
    "    return result"
   ]
  },
  {
   "cell_type": "code",
   "execution_count": 89,
   "metadata": {},
   "outputs": [],
   "source": [
    "def plot_param_r2(model, param_name, title):\n",
    "    result1 = cv_result1(model, param_name)\n",
    "    x = result1[param_name]\n",
    "    y = result1['mean_test_r2']\n",
    "    plt.plot(x, y)\n",
    "    plt.xlabel(param_name)\n",
    "    plt.ylabel('R2')\n",
    "    plt.title(title)\n",
    "    plt.show()"
   ]
  },
  {
   "cell_type": "code",
   "execution_count": 91,
   "metadata": {},
   "outputs": [],
   "source": [
    "def plot_param_rmse(model, param_name, title):\n",
    "    result1 = cv_result1(model, param_name)\n",
    "    x = result1[param_name]\n",
    "    y = result1['RMSE']\n",
    "    plt.plot(x, y)\n",
    "    plt.xlabel(param_name)\n",
    "    plt.ylabel('RMSE')\n",
    "    plt.title(title)\n",
    "    plt.show()"
   ]
  },
  {
   "cell_type": "markdown",
   "metadata": {},
   "source": [
    "# Linear models"
   ]
  },
  {
   "cell_type": "code",
   "execution_count": 36,
   "metadata": {},
   "outputs": [],
   "source": [
    "# linear model\n",
    "X_test_lin = X_test.drop(labels = ['pickup_longitude', 'pickup_latitude', \n",
    "                                     'dropoff_longitude', 'dropoff_latitude'], \n",
    "                           axis = 1)"
   ]
  },
  {
   "cell_type": "markdown",
   "metadata": {},
   "source": [
    "## 1. Ridge + OHE"
   ]
  },
  {
   "cell_type": "code",
   "execution_count": 82,
   "metadata": {},
   "outputs": [
    {
     "name": "stdout",
     "output_type": "stream",
     "text": [
      "Test RMSE = 458.7190404350547\n",
      "Test R2 = 0.5551475959853511\n"
     ]
    },
    {
     "data": {
      "text/plain": [
       "(458.7190404350547, 0.5551475959853511)"
      ]
     },
     "execution_count": 82,
     "metadata": {},
     "output_type": "execute_result"
    }
   ],
   "source": [
    "scores1(ridge_grid1, X_test_lin)"
   ]
  },
  {
   "cell_type": "code",
   "execution_count": 85,
   "metadata": {},
   "outputs": [
    {
     "data": {
      "text/html": [
       "<div>\n",
       "<style scoped>\n",
       "    .dataframe tbody tr th:only-of-type {\n",
       "        vertical-align: middle;\n",
       "    }\n",
       "\n",
       "    .dataframe tbody tr th {\n",
       "        vertical-align: top;\n",
       "    }\n",
       "\n",
       "    .dataframe thead th {\n",
       "        text-align: right;\n",
       "    }\n",
       "</style>\n",
       "<table border=\"1\" class=\"dataframe\">\n",
       "  <thead>\n",
       "    <tr style=\"text-align: right;\">\n",
       "      <th></th>\n",
       "      <th>param_ridge__alpha</th>\n",
       "      <th>mean_test_neg_mean_squared_error</th>\n",
       "      <th>mean_test_r2</th>\n",
       "      <th>RMSE</th>\n",
       "    </tr>\n",
       "  </thead>\n",
       "  <tbody>\n",
       "    <tr>\n",
       "      <th>0</th>\n",
       "      <td>0.001</td>\n",
       "      <td>-120673.940163</td>\n",
       "      <td>0.667107</td>\n",
       "      <td>347.381548</td>\n",
       "    </tr>\n",
       "    <tr>\n",
       "      <th>1</th>\n",
       "      <td>0.00774264</td>\n",
       "      <td>-120668.334166</td>\n",
       "      <td>0.667123</td>\n",
       "      <td>347.373479</td>\n",
       "    </tr>\n",
       "    <tr>\n",
       "      <th>2</th>\n",
       "      <td>0.0599484</td>\n",
       "      <td>-120626.069251</td>\n",
       "      <td>0.667249</td>\n",
       "      <td>347.312639</td>\n",
       "    </tr>\n",
       "    <tr>\n",
       "      <th>3</th>\n",
       "      <td>0.464159</td>\n",
       "      <td>-120346.209882</td>\n",
       "      <td>0.668082</td>\n",
       "      <td>346.909513</td>\n",
       "    </tr>\n",
       "    <tr>\n",
       "      <th>4</th>\n",
       "      <td>3.59381</td>\n",
       "      <td>-118984.323682</td>\n",
       "      <td>0.672145</td>\n",
       "      <td>344.941044</td>\n",
       "    </tr>\n",
       "    <tr>\n",
       "      <th>5</th>\n",
       "      <td>27.8256</td>\n",
       "      <td>-115409.613970</td>\n",
       "      <td>0.682875</td>\n",
       "      <td>339.719905</td>\n",
       "    </tr>\n",
       "    <tr>\n",
       "      <th>6</th>\n",
       "      <td>215.443</td>\n",
       "      <td>-114796.944014</td>\n",
       "      <td>0.685004</td>\n",
       "      <td>338.816977</td>\n",
       "    </tr>\n",
       "    <tr>\n",
       "      <th>7</th>\n",
       "      <td>1668.1</td>\n",
       "      <td>-118467.284651</td>\n",
       "      <td>0.674408</td>\n",
       "      <td>344.190768</td>\n",
       "    </tr>\n",
       "    <tr>\n",
       "      <th>8</th>\n",
       "      <td>12915.5</td>\n",
       "      <td>-125498.874498</td>\n",
       "      <td>0.654685</td>\n",
       "      <td>354.258203</td>\n",
       "    </tr>\n",
       "    <tr>\n",
       "      <th>9</th>\n",
       "      <td>100000</td>\n",
       "      <td>-131344.426444</td>\n",
       "      <td>0.639252</td>\n",
       "      <td>362.414716</td>\n",
       "    </tr>\n",
       "  </tbody>\n",
       "</table>\n",
       "</div>"
      ],
      "text/plain": [
       "  param_ridge__alpha  mean_test_neg_mean_squared_error  mean_test_r2  \\\n",
       "0              0.001                    -120673.940163      0.667107   \n",
       "1         0.00774264                    -120668.334166      0.667123   \n",
       "2          0.0599484                    -120626.069251      0.667249   \n",
       "3           0.464159                    -120346.209882      0.668082   \n",
       "4            3.59381                    -118984.323682      0.672145   \n",
       "5            27.8256                    -115409.613970      0.682875   \n",
       "6            215.443                    -114796.944014      0.685004   \n",
       "7             1668.1                    -118467.284651      0.674408   \n",
       "8            12915.5                    -125498.874498      0.654685   \n",
       "9             100000                    -131344.426444      0.639252   \n",
       "\n",
       "         RMSE  \n",
       "0  347.381548  \n",
       "1  347.373479  \n",
       "2  347.312639  \n",
       "3  346.909513  \n",
       "4  344.941044  \n",
       "5  339.719905  \n",
       "6  338.816977  \n",
       "7  344.190768  \n",
       "8  354.258203  \n",
       "9  362.414716  "
      ]
     },
     "execution_count": 85,
     "metadata": {},
     "output_type": "execute_result"
    }
   ],
   "source": [
    "cv_result1(ridge_grid1, 'param_ridge__alpha')"
   ]
  },
  {
   "cell_type": "code",
   "execution_count": 71,
   "metadata": {},
   "outputs": [],
   "source": [
    "#pd.DataFrame(ridge_grid1.cv_results_).columns"
   ]
  },
  {
   "cell_type": "code",
   "execution_count": 90,
   "metadata": {},
   "outputs": [
    {
     "data": {
      "image/png": "[encoded data removed]",
      "text/plain": [
       "<Figure size 432x288 with 1 Axes>"
      ]
     },
     "metadata": {
      "needs_background": "light"
     },
     "output_type": "display_data"
    }
   ],
   "source": [
    "plot_param_r2(ridge_grid1, 'param_ridge__alpha', title = 'Ridge + OHE')"
   ]
  },
  {
   "cell_type": "code",
   "execution_count": 92,
   "metadata": {},
   "outputs": [
    {
     "data": {
      "image/png": "[encoded data removed]",
      "text/plain": [
       "<Figure size 432x288 with 1 Axes>"
      ]
     },
     "metadata": {
      "needs_background": "light"
     },
     "output_type": "display_data"
    }
   ],
   "source": [
    "plot_param_rmse(ridge_grid1, 'param_ridge__alpha', title = 'Ridge + OHE')"
   ]
  },
  {
   "cell_type": "code",
   "execution_count": 13,
   "metadata": {},
   "outputs": [],
   "source": [
    "# ohe features names ['mo', 'fog', 'rain_drizzle', 'snow_ice_pellets', 'day_of_week', 'work', 'weekday',\n",
    "           #'pickup_cluster', 'dropoff_cluster', 'hour_of_day']]\n",
    "cat_cols = ridge_grid1.best_estimator_.steps[0][1].named_transformers_['onehotencoder'].get_feature_names()\n",
    "\n",
    "# when using remainder='passthrough', the numerical columns will be appended at the end (right side)\n",
    "num_cols = np.asarray(['passenger_count', 'temp', 'visib', 'wdsp', 'gust', 'max', 'min',\n",
    "                       'prcp','haver_dist', 'man_dist', 'num_rides_pcluster','num_rides_dcluster', \n",
    "                       'num_rides_ccluster'])\n",
    "\n",
    "# all feature names: order of features is the same as the order they appear in columntransformer\n",
    "ridge1_featnames = np.concatenate((cat_cols, num_cols), axis = None)\n",
    "\n",
    "# all coefficients\n",
    "ridge1_coef = ridge_grid1.best_estimator_.steps[1][1].coef_"
   ]
  },
  {
   "cell_type": "code",
   "execution_count": 245,
   "metadata": {},
   "outputs": [
    {
     "data": {
      "image/png": "[encoded data removed]",
      "text/plain": [
       "<Figure size 720x360 with 1 Axes>"
      ]
     },
     "metadata": {
      "needs_background": "light"
     },
     "output_type": "display_data"
    }
   ],
   "source": [
    "plot_coef(ridge1_coef, ridge1_featnames, \"Ridge + OHE\", top_features=10)"
   ]
  },
  {
   "cell_type": "markdown",
   "metadata": {},
   "source": [
    "- haversine dist\n",
    "- manhattan dist\n",
    "- dropoff cluster\n",
    "- pickup cluster\n",
    "- hour of day"
   ]
  },
  {
   "cell_type": "markdown",
   "metadata": {},
   "source": [
    "## 2. Ridge + OHE + target + interaction (best for interpretability)\n",
    "- (best among linear models. Linear models are good for interpretability, use this one if want to explain to people how the prediction works)"
   ]
  },
  {
   "cell_type": "code",
   "execution_count": 123,
   "metadata": {},
   "outputs": [
    {
     "name": "stdout",
     "output_type": "stream",
     "text": [
      "Test RMSE = 446.8839259870943\n",
      "Test R2 = 0.5778061768538747\n"
     ]
    },
    {
     "data": {
      "text/plain": [
       "(446.8839259870943, 0.5778061768538747)"
      ]
     },
     "execution_count": 123,
     "metadata": {},
     "output_type": "execute_result"
    }
   ],
   "source": [
    "scores1(ridge_grid2, X_test_lin)"
   ]
  },
  {
   "cell_type": "code",
   "execution_count": 124,
   "metadata": {},
   "outputs": [
    {
     "data": {
      "text/html": [
       "<div>\n",
       "<style scoped>\n",
       "    .dataframe tbody tr th:only-of-type {\n",
       "        vertical-align: middle;\n",
       "    }\n",
       "\n",
       "    .dataframe tbody tr th {\n",
       "        vertical-align: top;\n",
       "    }\n",
       "\n",
       "    .dataframe thead th {\n",
       "        text-align: right;\n",
       "    }\n",
       "</style>\n",
       "<table border=\"1\" class=\"dataframe\">\n",
       "  <thead>\n",
       "    <tr style=\"text-align: right;\">\n",
       "      <th></th>\n",
       "      <th>param_ridge__alpha</th>\n",
       "      <th>mean_test_neg_mean_squared_error</th>\n",
       "      <th>mean_test_r2</th>\n",
       "      <th>RMSE</th>\n",
       "    </tr>\n",
       "  </thead>\n",
       "  <tbody>\n",
       "    <tr>\n",
       "      <th>0</th>\n",
       "      <td>0.001</td>\n",
       "      <td>-121161.029377</td>\n",
       "      <td>0.669885</td>\n",
       "      <td>348.081929</td>\n",
       "    </tr>\n",
       "    <tr>\n",
       "      <th>1</th>\n",
       "      <td>0.00774264</td>\n",
       "      <td>-121159.262048</td>\n",
       "      <td>0.669889</td>\n",
       "      <td>348.079390</td>\n",
       "    </tr>\n",
       "    <tr>\n",
       "      <th>2</th>\n",
       "      <td>0.0599484</td>\n",
       "      <td>-121145.150226</td>\n",
       "      <td>0.669924</td>\n",
       "      <td>348.059119</td>\n",
       "    </tr>\n",
       "    <tr>\n",
       "      <th>3</th>\n",
       "      <td>0.464159</td>\n",
       "      <td>-121036.655221</td>\n",
       "      <td>0.670189</td>\n",
       "      <td>347.903227</td>\n",
       "    </tr>\n",
       "    <tr>\n",
       "      <th>4</th>\n",
       "      <td>3.59381</td>\n",
       "      <td>-120243.208333</td>\n",
       "      <td>0.672129</td>\n",
       "      <td>346.761025</td>\n",
       "    </tr>\n",
       "    <tr>\n",
       "      <th>5</th>\n",
       "      <td>27.8256</td>\n",
       "      <td>-116037.989281</td>\n",
       "      <td>0.682421</td>\n",
       "      <td>340.643493</td>\n",
       "    </tr>\n",
       "    <tr>\n",
       "      <th>6</th>\n",
       "      <td>215.443</td>\n",
       "      <td>-109400.858110</td>\n",
       "      <td>0.698757</td>\n",
       "      <td>330.758005</td>\n",
       "    </tr>\n",
       "    <tr>\n",
       "      <th>7</th>\n",
       "      <td>1668.1</td>\n",
       "      <td>-108392.720412</td>\n",
       "      <td>0.701532</td>\n",
       "      <td>329.230497</td>\n",
       "    </tr>\n",
       "    <tr>\n",
       "      <th>8</th>\n",
       "      <td>12915.5</td>\n",
       "      <td>-107218.233233</td>\n",
       "      <td>0.705185</td>\n",
       "      <td>327.441954</td>\n",
       "    </tr>\n",
       "    <tr>\n",
       "      <th>9</th>\n",
       "      <td>100000</td>\n",
       "      <td>-107022.572891</td>\n",
       "      <td>0.705981</td>\n",
       "      <td>327.143047</td>\n",
       "    </tr>\n",
       "  </tbody>\n",
       "</table>\n",
       "</div>"
      ],
      "text/plain": [
       "  param_ridge__alpha  mean_test_neg_mean_squared_error  mean_test_r2  \\\n",
       "0              0.001                    -121161.029377      0.669885   \n",
       "1         0.00774264                    -121159.262048      0.669889   \n",
       "2          0.0599484                    -121145.150226      0.669924   \n",
       "3           0.464159                    -121036.655221      0.670189   \n",
       "4            3.59381                    -120243.208333      0.672129   \n",
       "5            27.8256                    -116037.989281      0.682421   \n",
       "6            215.443                    -109400.858110      0.698757   \n",
       "7             1668.1                    -108392.720412      0.701532   \n",
       "8            12915.5                    -107218.233233      0.705185   \n",
       "9             100000                    -107022.572891      0.705981   \n",
       "\n",
       "         RMSE  \n",
       "0  348.081929  \n",
       "1  348.079390  \n",
       "2  348.059119  \n",
       "3  347.903227  \n",
       "4  346.761025  \n",
       "5  340.643493  \n",
       "6  330.758005  \n",
       "7  329.230497  \n",
       "8  327.441954  \n",
       "9  327.143047  "
      ]
     },
     "execution_count": 124,
     "metadata": {},
     "output_type": "execute_result"
    }
   ],
   "source": [
    "cv_result1(ridge_grid2, 'param_ridge__alpha')"
   ]
  },
  {
   "cell_type": "code",
   "execution_count": 120,
   "metadata": {},
   "outputs": [
    {
     "data": {
      "image/png": "[encoded data removed]",
      "text/plain": [
       "<Figure size 432x288 with 1 Axes>"
      ]
     },
     "metadata": {
      "needs_background": "light"
     },
     "output_type": "display_data"
    }
   ],
   "source": [
    "plot_param_r2(ridge_grid2, 'param_ridge__alpha', title = 'Ridge + OHE + TargetEncoder + Polynomial')"
   ]
  },
  {
   "cell_type": "code",
   "execution_count": 121,
   "metadata": {},
   "outputs": [
    {
     "data": {
      "image/png": "[encoded data removed]",
      "text/plain": [
       "<Figure size 432x288 with 1 Axes>"
      ]
     },
     "metadata": {
      "needs_background": "light"
     },
     "output_type": "display_data"
    }
   ],
   "source": [
    "plot_param_rmse(ridge_grid2, 'param_ridge__alpha', title = 'Ridge + OHE + TargetEncoder + Polynomial')"
   ]
  },
  {
   "cell_type": "markdown",
   "metadata": {},
   "source": [
    "### coefficients too complicated to figure out, since I put everything in a pipeline and it added interaction terms"
   ]
  },
  {
   "cell_type": "markdown",
   "metadata": {},
   "source": [
    "## 3. Ridge + OHE + target + Power + Scaling"
   ]
  },
  {
   "cell_type": "code",
   "execution_count": 125,
   "metadata": {},
   "outputs": [
    {
     "name": "stdout",
     "output_type": "stream",
     "text": [
      "Test RMSE = 487.77785247039014\n",
      "Test R2 = 0.4970016479268543\n"
     ]
    },
    {
     "data": {
      "text/plain": [
       "(487.77785247039014, 0.4970016479268543)"
      ]
     },
     "execution_count": 125,
     "metadata": {},
     "output_type": "execute_result"
    }
   ],
   "source": [
    "scores1(ridge_grid3, X_test_lin)"
   ]
  },
  {
   "cell_type": "code",
   "execution_count": 126,
   "metadata": {},
   "outputs": [
    {
     "data": {
      "text/html": [
       "<div>\n",
       "<style scoped>\n",
       "    .dataframe tbody tr th:only-of-type {\n",
       "        vertical-align: middle;\n",
       "    }\n",
       "\n",
       "    .dataframe tbody tr th {\n",
       "        vertical-align: top;\n",
       "    }\n",
       "\n",
       "    .dataframe thead th {\n",
       "        text-align: right;\n",
       "    }\n",
       "</style>\n",
       "<table border=\"1\" class=\"dataframe\">\n",
       "  <thead>\n",
       "    <tr style=\"text-align: right;\">\n",
       "      <th></th>\n",
       "      <th>param_ridge__alpha</th>\n",
       "      <th>mean_test_neg_mean_squared_error</th>\n",
       "      <th>mean_test_r2</th>\n",
       "      <th>RMSE</th>\n",
       "    </tr>\n",
       "  </thead>\n",
       "  <tbody>\n",
       "    <tr>\n",
       "      <th>0</th>\n",
       "      <td>0.001</td>\n",
       "      <td>-158777.354005</td>\n",
       "      <td>0.563186</td>\n",
       "      <td>398.468762</td>\n",
       "    </tr>\n",
       "    <tr>\n",
       "      <th>1</th>\n",
       "      <td>0.00774264</td>\n",
       "      <td>-158777.350685</td>\n",
       "      <td>0.563186</td>\n",
       "      <td>398.468757</td>\n",
       "    </tr>\n",
       "    <tr>\n",
       "      <th>2</th>\n",
       "      <td>0.0599484</td>\n",
       "      <td>-158777.325023</td>\n",
       "      <td>0.563186</td>\n",
       "      <td>398.468725</td>\n",
       "    </tr>\n",
       "    <tr>\n",
       "      <th>3</th>\n",
       "      <td>0.464159</td>\n",
       "      <td>-158777.129080</td>\n",
       "      <td>0.563186</td>\n",
       "      <td>398.468479</td>\n",
       "    </tr>\n",
       "    <tr>\n",
       "      <th>4</th>\n",
       "      <td>3.59381</td>\n",
       "      <td>-158775.773964</td>\n",
       "      <td>0.563191</td>\n",
       "      <td>398.466779</td>\n",
       "    </tr>\n",
       "    <tr>\n",
       "      <th>5</th>\n",
       "      <td>27.8256</td>\n",
       "      <td>-158773.888558</td>\n",
       "      <td>0.563203</td>\n",
       "      <td>398.464413</td>\n",
       "    </tr>\n",
       "    <tr>\n",
       "      <th>6</th>\n",
       "      <td>215.443</td>\n",
       "      <td>-158989.425913</td>\n",
       "      <td>0.562654</td>\n",
       "      <td>398.734781</td>\n",
       "    </tr>\n",
       "    <tr>\n",
       "      <th>7</th>\n",
       "      <td>1668.1</td>\n",
       "      <td>-160182.798775</td>\n",
       "      <td>0.559572</td>\n",
       "      <td>400.228433</td>\n",
       "    </tr>\n",
       "    <tr>\n",
       "      <th>8</th>\n",
       "      <td>12915.5</td>\n",
       "      <td>-162912.950276</td>\n",
       "      <td>0.552904</td>\n",
       "      <td>403.624764</td>\n",
       "    </tr>\n",
       "    <tr>\n",
       "      <th>9</th>\n",
       "      <td>100000</td>\n",
       "      <td>-200364.709866</td>\n",
       "      <td>0.450815</td>\n",
       "      <td>447.621168</td>\n",
       "    </tr>\n",
       "  </tbody>\n",
       "</table>\n",
       "</div>"
      ],
      "text/plain": [
       "  param_ridge__alpha  mean_test_neg_mean_squared_error  mean_test_r2  \\\n",
       "0              0.001                    -158777.354005      0.563186   \n",
       "1         0.00774264                    -158777.350685      0.563186   \n",
       "2          0.0599484                    -158777.325023      0.563186   \n",
       "3           0.464159                    -158777.129080      0.563186   \n",
       "4            3.59381                    -158775.773964      0.563191   \n",
       "5            27.8256                    -158773.888558      0.563203   \n",
       "6            215.443                    -158989.425913      0.562654   \n",
       "7             1668.1                    -160182.798775      0.559572   \n",
       "8            12915.5                    -162912.950276      0.552904   \n",
       "9             100000                    -200364.709866      0.450815   \n",
       "\n",
       "         RMSE  \n",
       "0  398.468762  \n",
       "1  398.468757  \n",
       "2  398.468725  \n",
       "3  398.468479  \n",
       "4  398.466779  \n",
       "5  398.464413  \n",
       "6  398.734781  \n",
       "7  400.228433  \n",
       "8  403.624764  \n",
       "9  447.621168  "
      ]
     },
     "execution_count": 126,
     "metadata": {},
     "output_type": "execute_result"
    }
   ],
   "source": [
    "cv_result1(ridge_grid3, 'param_ridge__alpha')"
   ]
  },
  {
   "cell_type": "code",
   "execution_count": 129,
   "metadata": {},
   "outputs": [
    {
     "data": {
      "image/png": "[encoded data removed]",
      "text/plain": [
       "<Figure size 432x288 with 1 Axes>"
      ]
     },
     "metadata": {
      "needs_background": "light"
     },
     "output_type": "display_data"
    }
   ],
   "source": [
    "plot_param_r2(ridge_grid3, 'param_ridge__alpha', title = 'Ridge + OHE + target + Power + Scaling')"
   ]
  },
  {
   "cell_type": "code",
   "execution_count": 130,
   "metadata": {},
   "outputs": [
    {
     "data": {
      "image/png": "[encoded data removed]",
      "text/plain": [
       "<Figure size 432x288 with 1 Axes>"
      ]
     },
     "metadata": {
      "needs_background": "light"
     },
     "output_type": "display_data"
    }
   ],
   "source": [
    "plot_param_rmse(ridge_grid3, 'param_ridge__alpha', title = 'Ridge + OHE + target + Power + Scaling')"
   ]
  },
  {
   "cell_type": "markdown",
   "metadata": {},
   "source": [
    "- OHE = ['mo', 'fog', 'rain_drizzle', 'snow_ice_pellets', 'day_of_week', 'work', 'weekday']\n",
    "- target = ['pickup_cluster', 'dropoff_cluster', 'hour_of_day']\n",
    "- num = ['passenger_count', 'temp', 'visib', 'wdsp', 'gust', 'max', 'min','prcp', 'haver_dist','man_dist','num_rides_pcluster','num_rides_dcluster', 'num_rides_ccluster']"
   ]
  },
  {
   "cell_type": "code",
   "execution_count": 181,
   "metadata": {},
   "outputs": [],
   "source": [
    "ohe_cols = ridge_grid3.best_estimator_.steps[0][1].named_transformers_['onehotencoder'].get_feature_names()\n",
    "target_cols = ridge_grid3.best_estimator_.steps[0][1].named_transformers_['targetencoder'].get_feature_names()\n",
    "num_cols = ridge_grid3.best_estimator_.steps[0][1].transformers_[2][2]\n",
    "ridge3_featnames = np.concatenate((ohe_cols, target_cols, num_cols), axis = None)\n",
    "ridge3_coef = ridge_grid3.best_estimator_.steps[1][1].coef_"
   ]
  },
  {
   "cell_type": "code",
   "execution_count": 183,
   "metadata": {},
   "outputs": [
    {
     "data": {
      "text/plain": [
       "array(['x0_01', 'x0_02', 'x0_03', 'x0_04', 'x0_05', 'x1_0', 'x1_1',\n",
       "       'x2_0', 'x2_1', 'x3_0', 'x3_1', 'x4_0', 'x4_4', 'x4_5', 'x4_6',\n",
       "       'x5_0', 'x5_1', 'x6_0', 'x6_1'], dtype=object)"
      ]
     },
     "execution_count": 183,
     "metadata": {},
     "output_type": "execute_result"
    }
   ],
   "source": [
    "ohe_cols"
   ]
  },
  {
   "cell_type": "code",
   "execution_count": 246,
   "metadata": {},
   "outputs": [
    {
     "data": {
      "image/png": "[encoded data removed]",
      "text/plain": [
       "<Figure size 720x360 with 1 Axes>"
      ]
     },
     "metadata": {
      "needs_background": "light"
     },
     "output_type": "display_data"
    }
   ],
   "source": [
    "plot_coef(ridge3_coef, ridge3_featnames, \"Ridge + OHE + target + Power + Scaling\", top_features=10)"
   ]
  },
  {
   "cell_type": "markdown",
   "metadata": {},
   "source": [
    "- haversince distance\n",
    "- mo\n",
    "- fog\n",
    "- day_of_week\n",
    "- work\n",
    "- Manhattan distance"
   ]
  },
  {
   "cell_type": "markdown",
   "metadata": {},
   "source": [
    "# 4. lasso + OHE + target + power + scaling"
   ]
  },
  {
   "cell_type": "code",
   "execution_count": 184,
   "metadata": {},
   "outputs": [
    {
     "name": "stdout",
     "output_type": "stream",
     "text": [
      "Test RMSE = 492.72360083614706\n",
      "Test R2 = 0.48674978795785906\n"
     ]
    },
    {
     "data": {
      "text/plain": [
       "(492.72360083614706, 0.48674978795785906)"
      ]
     },
     "execution_count": 184,
     "metadata": {},
     "output_type": "execute_result"
    }
   ],
   "source": [
    "scores1(lasso_grid1, X_test_lin)"
   ]
  },
  {
   "cell_type": "code",
   "execution_count": 185,
   "metadata": {},
   "outputs": [
    {
     "data": {
      "text/html": [
       "<div>\n",
       "<style scoped>\n",
       "    .dataframe tbody tr th:only-of-type {\n",
       "        vertical-align: middle;\n",
       "    }\n",
       "\n",
       "    .dataframe tbody tr th {\n",
       "        vertical-align: top;\n",
       "    }\n",
       "\n",
       "    .dataframe thead th {\n",
       "        text-align: right;\n",
       "    }\n",
       "</style>\n",
       "<table border=\"1\" class=\"dataframe\">\n",
       "  <thead>\n",
       "    <tr style=\"text-align: right;\">\n",
       "      <th></th>\n",
       "      <th>param_lasso__alpha</th>\n",
       "      <th>mean_test_neg_mean_squared_error</th>\n",
       "      <th>mean_test_r2</th>\n",
       "      <th>RMSE</th>\n",
       "    </tr>\n",
       "  </thead>\n",
       "  <tbody>\n",
       "    <tr>\n",
       "      <th>0</th>\n",
       "      <td>0.001</td>\n",
       "      <td>-158776.878847</td>\n",
       "      <td>0.563187</td>\n",
       "      <td>398.468165</td>\n",
       "    </tr>\n",
       "    <tr>\n",
       "      <th>1</th>\n",
       "      <td>0.00774264</td>\n",
       "      <td>-158773.603925</td>\n",
       "      <td>0.563198</td>\n",
       "      <td>398.464056</td>\n",
       "    </tr>\n",
       "    <tr>\n",
       "      <th>2</th>\n",
       "      <td>0.0599484</td>\n",
       "      <td>-158731.735357</td>\n",
       "      <td>0.563324</td>\n",
       "      <td>398.411515</td>\n",
       "    </tr>\n",
       "    <tr>\n",
       "      <th>3</th>\n",
       "      <td>0.464159</td>\n",
       "      <td>-158559.968385</td>\n",
       "      <td>0.563885</td>\n",
       "      <td>398.195892</td>\n",
       "    </tr>\n",
       "    <tr>\n",
       "      <th>4</th>\n",
       "      <td>3.59381</td>\n",
       "      <td>-159519.732475</td>\n",
       "      <td>0.561719</td>\n",
       "      <td>399.399214</td>\n",
       "    </tr>\n",
       "    <tr>\n",
       "      <th>5</th>\n",
       "      <td>27.8256</td>\n",
       "      <td>-162581.508054</td>\n",
       "      <td>0.553798</td>\n",
       "      <td>403.213973</td>\n",
       "    </tr>\n",
       "    <tr>\n",
       "      <th>6</th>\n",
       "      <td>215.443</td>\n",
       "      <td>-207418.558196</td>\n",
       "      <td>0.431612</td>\n",
       "      <td>455.432276</td>\n",
       "    </tr>\n",
       "    <tr>\n",
       "      <th>7</th>\n",
       "      <td>1668.1</td>\n",
       "      <td>-363455.708787</td>\n",
       "      <td>-0.000784</td>\n",
       "      <td>602.872879</td>\n",
       "    </tr>\n",
       "    <tr>\n",
       "      <th>8</th>\n",
       "      <td>12915.5</td>\n",
       "      <td>-363455.708787</td>\n",
       "      <td>-0.000784</td>\n",
       "      <td>602.872879</td>\n",
       "    </tr>\n",
       "    <tr>\n",
       "      <th>9</th>\n",
       "      <td>100000</td>\n",
       "      <td>-363455.708787</td>\n",
       "      <td>-0.000784</td>\n",
       "      <td>602.872879</td>\n",
       "    </tr>\n",
       "  </tbody>\n",
       "</table>\n",
       "</div>"
      ],
      "text/plain": [
       "  param_lasso__alpha  mean_test_neg_mean_squared_error  mean_test_r2  \\\n",
       "0              0.001                    -158776.878847      0.563187   \n",
       "1         0.00774264                    -158773.603925      0.563198   \n",
       "2          0.0599484                    -158731.735357      0.563324   \n",
       "3           0.464159                    -158559.968385      0.563885   \n",
       "4            3.59381                    -159519.732475      0.561719   \n",
       "5            27.8256                    -162581.508054      0.553798   \n",
       "6            215.443                    -207418.558196      0.431612   \n",
       "7             1668.1                    -363455.708787     -0.000784   \n",
       "8            12915.5                    -363455.708787     -0.000784   \n",
       "9             100000                    -363455.708787     -0.000784   \n",
       "\n",
       "         RMSE  \n",
       "0  398.468165  \n",
       "1  398.464056  \n",
       "2  398.411515  \n",
       "3  398.195892  \n",
       "4  399.399214  \n",
       "5  403.213973  \n",
       "6  455.432276  \n",
       "7  602.872879  \n",
       "8  602.872879  \n",
       "9  602.872879  "
      ]
     },
     "execution_count": 185,
     "metadata": {},
     "output_type": "execute_result"
    }
   ],
   "source": [
    "cv_result1(lasso_grid1, 'param_lasso__alpha')"
   ]
  },
  {
   "cell_type": "code",
   "execution_count": 186,
   "metadata": {},
   "outputs": [
    {
     "data": {
      "image/png": "[encoded data removed]",
      "text/plain": [
       "<Figure size 432x288 with 1 Axes>"
      ]
     },
     "metadata": {
      "needs_background": "light"
     },
     "output_type": "display_data"
    }
   ],
   "source": [
    "plot_param_r2(lasso_grid1, 'param_lasso__alpha', title = 'Lasso + OHE + target + power + scaling')"
   ]
  },
  {
   "cell_type": "code",
   "execution_count": 187,
   "metadata": {},
   "outputs": [
    {
     "data": {
      "image/png": "[encoded data removed]",
      "text/plain": [
       "<Figure size 432x288 with 1 Axes>"
      ]
     },
     "metadata": {
      "needs_background": "light"
     },
     "output_type": "display_data"
    }
   ],
   "source": [
    "plot_param_rmse(lasso_grid1, 'param_lasso__alpha', title = 'Lasso + OHE + target + power + scaling')"
   ]
  },
  {
   "cell_type": "markdown",
   "metadata": {},
   "source": [
    "- OHE = ['mo', 'fog', 'rain_drizzle', 'snow_ice_pellets', 'day_of_week', 'work', 'weekday']\n",
    "- target = ['pickup_cluster', 'dropoff_cluster', 'hour_of_day']\n",
    "- num = ['passenger_count', 'temp', 'visib', 'wdsp', 'gust', 'max', 'min','prcp', 'haver_dist','man_dist','num_rides_pcluster','num_rides_dcluster', 'num_rides_ccluster']"
   ]
  },
  {
   "cell_type": "code",
   "execution_count": 188,
   "metadata": {},
   "outputs": [],
   "source": [
    "ohe_cols = lasso_grid1.best_estimator_.steps[0][1].named_transformers_['onehotencoder'].get_feature_names()\n",
    "target_cols = lasso_grid1.best_estimator_.steps[0][1].named_transformers_['targetencoder'].get_feature_names()\n",
    "num_cols = lasso_grid1.best_estimator_.steps[0][1].transformers_[2][2]\n",
    "lasso1_featnames = np.concatenate((ohe_cols, target_cols, num_cols), axis = None)\n",
    "lasso1_coef = lasso_grid1.best_estimator_.steps[1][1].coef_"
   ]
  },
  {
   "cell_type": "code",
   "execution_count": 247,
   "metadata": {},
   "outputs": [
    {
     "data": {
      "image/png": "[encoded data removed]",
      "text/plain": [
       "<Figure size 720x360 with 1 Axes>"
      ]
     },
     "metadata": {
      "needs_background": "light"
     },
     "output_type": "display_data"
    }
   ],
   "source": [
    "plot_coef(lasso1_coef, lasso1_featnames, \"Lasso + OHE + target + Power + Scaling\", top_features=10)"
   ]
  },
  {
   "cell_type": "markdown",
   "metadata": {},
   "source": [
    "- haversine dist\n",
    "- mo\n",
    "- day_of_week\n",
    "- work\n",
    "- manhattan dist\n",
    "- fog"
   ]
  },
  {
   "cell_type": "markdown",
   "metadata": {},
   "source": [
    "# 5. xg + OHE"
   ]
  },
  {
   "cell_type": "code",
   "execution_count": 215,
   "metadata": {},
   "outputs": [
    {
     "name": "stdout",
     "output_type": "stream",
     "text": [
      "Test RMSE = 392.5658900136989\n",
      "Test R2 = 0.6742026632194551\n"
     ]
    },
    {
     "data": {
      "text/plain": [
       "(392.5658900136989, 0.6742026632194551)"
      ]
     },
     "execution_count": 215,
     "metadata": {},
     "output_type": "execute_result"
    }
   ],
   "source": [
    "scores1(xg_grid1, X_test)"
   ]
  },
  {
   "cell_type": "code",
   "execution_count": 216,
   "metadata": {},
   "outputs": [
    {
     "data": {
      "text/html": [
       "<div>\n",
       "<style scoped>\n",
       "    .dataframe tbody tr th:only-of-type {\n",
       "        vertical-align: middle;\n",
       "    }\n",
       "\n",
       "    .dataframe tbody tr th {\n",
       "        vertical-align: top;\n",
       "    }\n",
       "\n",
       "    .dataframe thead th {\n",
       "        text-align: right;\n",
       "    }\n",
       "</style>\n",
       "<table border=\"1\" class=\"dataframe\">\n",
       "  <thead>\n",
       "    <tr style=\"text-align: right;\">\n",
       "      <th></th>\n",
       "      <th>param_xgbregressor__max_depth</th>\n",
       "      <th>param_xgbregressor__min_child_weight</th>\n",
       "      <th>mean_test_neg_mean_squared_error</th>\n",
       "      <th>mean_test_r2</th>\n",
       "    </tr>\n",
       "  </thead>\n",
       "  <tbody>\n",
       "    <tr>\n",
       "      <th>0</th>\n",
       "      <td>10</td>\n",
       "      <td>10</td>\n",
       "      <td>-107570.437095</td>\n",
       "      <td>0.759445</td>\n",
       "    </tr>\n",
       "    <tr>\n",
       "      <th>1</th>\n",
       "      <td>10</td>\n",
       "      <td>20</td>\n",
       "      <td>-107485.455627</td>\n",
       "      <td>0.760027</td>\n",
       "    </tr>\n",
       "    <tr>\n",
       "      <th>2</th>\n",
       "      <td>10</td>\n",
       "      <td>30</td>\n",
       "      <td>-107787.477562</td>\n",
       "      <td>0.759484</td>\n",
       "    </tr>\n",
       "    <tr>\n",
       "      <th>3</th>\n",
       "      <td>15</td>\n",
       "      <td>10</td>\n",
       "      <td>-108679.835036</td>\n",
       "      <td>0.756963</td>\n",
       "    </tr>\n",
       "    <tr>\n",
       "      <th>4</th>\n",
       "      <td>15</td>\n",
       "      <td>20</td>\n",
       "      <td>-107469.899916</td>\n",
       "      <td>0.759830</td>\n",
       "    </tr>\n",
       "    <tr>\n",
       "      <th>5</th>\n",
       "      <td>15</td>\n",
       "      <td>30</td>\n",
       "      <td>-106615.323719</td>\n",
       "      <td>0.761689</td>\n",
       "    </tr>\n",
       "    <tr>\n",
       "      <th>6</th>\n",
       "      <td>20</td>\n",
       "      <td>10</td>\n",
       "      <td>-109788.689964</td>\n",
       "      <td>0.754586</td>\n",
       "    </tr>\n",
       "    <tr>\n",
       "      <th>7</th>\n",
       "      <td>20</td>\n",
       "      <td>20</td>\n",
       "      <td>-108476.000347</td>\n",
       "      <td>0.757508</td>\n",
       "    </tr>\n",
       "    <tr>\n",
       "      <th>8</th>\n",
       "      <td>20</td>\n",
       "      <td>30</td>\n",
       "      <td>-107283.524675</td>\n",
       "      <td>0.760330</td>\n",
       "    </tr>\n",
       "  </tbody>\n",
       "</table>\n",
       "</div>"
      ],
      "text/plain": [
       "  param_xgbregressor__max_depth param_xgbregressor__min_child_weight  \\\n",
       "0                            10                                   10   \n",
       "1                            10                                   20   \n",
       "2                            10                                   30   \n",
       "3                            15                                   10   \n",
       "4                            15                                   20   \n",
       "5                            15                                   30   \n",
       "6                            20                                   10   \n",
       "7                            20                                   20   \n",
       "8                            20                                   30   \n",
       "\n",
       "   mean_test_neg_mean_squared_error  mean_test_r2  \n",
       "0                    -107570.437095      0.759445  \n",
       "1                    -107485.455627      0.760027  \n",
       "2                    -107787.477562      0.759484  \n",
       "3                    -108679.835036      0.756963  \n",
       "4                    -107469.899916      0.759830  \n",
       "5                    -106615.323719      0.761689  \n",
       "6                    -109788.689964      0.754586  \n",
       "7                    -108476.000347      0.757508  \n",
       "8                    -107283.524675      0.760330  "
      ]
     },
     "execution_count": 216,
     "metadata": {},
     "output_type": "execute_result"
    }
   ],
   "source": [
    "warnings.filterwarnings('ignore')\n",
    "\n",
    "xg_result1 = pd.DataFrame(xg_grid1.cv_results_)[['param_xgbregressor__max_depth', \n",
    "                                                'param_xgbregressor__min_child_weight', \n",
    "                                                'mean_test_neg_mean_squared_error',\n",
    "                                                'mean_test_r2']]\n",
    "xg_result1"
   ]
  },
  {
   "cell_type": "markdown",
   "metadata": {},
   "source": [
    "- ohe features names ['mo', 'fog', 'rain_drizzle', 'snow_ice_pellets', 'day_of_week', 'work', 'weekday', #'pickup_cluster', 'dropoff_cluster', 'hour_of_day']]"
   ]
  },
  {
   "cell_type": "code",
   "execution_count": 224,
   "metadata": {},
   "outputs": [],
   "source": [
    "cat_cols = xg_grid1.best_estimator_.steps[0][1].named_transformers_['onehotencoder'].get_feature_names()\n",
    "num_cols = np.asarray(['passenger_count', 'pickup_longitude', 'pickup_latitude',\n",
    "       'dropoff_longitude', 'dropoff_latitude', 'temp', 'visib', 'wdsp', 'gust', 'max', 'min',\n",
    "                       'prcp','haver_dist', 'man_dist', 'num_rides_pcluster','num_rides_dcluster', \n",
    "                       'num_rides_ccluster'])\n",
    "xg1_featnames = np.concatenate((cat_cols, num_cols), axis = None)\n",
    "xg1_coef = xg_grid1.best_estimator_.steps[1][1].feature_importances_"
   ]
  },
  {
   "cell_type": "code",
   "execution_count": 257,
   "metadata": {},
   "outputs": [
    {
     "data": {
      "image/png": "[encoded data removed]",
      "text/plain": [
       "<Figure size 720x360 with 1 Axes>"
      ]
     },
     "metadata": {
      "needs_background": "light"
     },
     "output_type": "display_data"
    }
   ],
   "source": [
    "plot_feat_imp(xg1_coef, xg1_featnames, \"xg + OHE\", top_features=20)"
   ]
  },
  {
   "cell_type": "markdown",
   "metadata": {},
   "source": [
    "- haversince dist\n",
    "- hour_of_day\n",
    "- pickup cluster\n",
    "- dropoff cluster\n",
    "- num_rides_ccluster"
   ]
  },
  {
   "cell_type": "markdown",
   "metadata": {},
   "source": [
    "# 6. xg + OHE + target (best  for prediction)"
   ]
  },
  {
   "cell_type": "code",
   "execution_count": 261,
   "metadata": {},
   "outputs": [
    {
     "name": "stdout",
     "output_type": "stream",
     "text": [
      "Test RMSE = 374.41420867682706\n",
      "Test R2 = 0.7036349062850897\n"
     ]
    },
    {
     "data": {
      "text/plain": [
       "(374.41420867682706, 0.7036349062850897)"
      ]
     },
     "execution_count": 261,
     "metadata": {},
     "output_type": "execute_result"
    }
   ],
   "source": [
    "scores1(xg_grid2, X_test)"
   ]
  },
  {
   "cell_type": "code",
   "execution_count": 262,
   "metadata": {},
   "outputs": [
    {
     "data": {
      "text/html": [
       "<div>\n",
       "<style scoped>\n",
       "    .dataframe tbody tr th:only-of-type {\n",
       "        vertical-align: middle;\n",
       "    }\n",
       "\n",
       "    .dataframe tbody tr th {\n",
       "        vertical-align: top;\n",
       "    }\n",
       "\n",
       "    .dataframe thead th {\n",
       "        text-align: right;\n",
       "    }\n",
       "</style>\n",
       "<table border=\"1\" class=\"dataframe\">\n",
       "  <thead>\n",
       "    <tr style=\"text-align: right;\">\n",
       "      <th></th>\n",
       "      <th>param_xgbregressor__max_depth</th>\n",
       "      <th>param_xgbregressor__min_child_weight</th>\n",
       "      <th>mean_test_neg_mean_squared_error</th>\n",
       "      <th>mean_test_r2</th>\n",
       "    </tr>\n",
       "  </thead>\n",
       "  <tbody>\n",
       "    <tr>\n",
       "      <th>0</th>\n",
       "      <td>15</td>\n",
       "      <td>10</td>\n",
       "      <td>-106362.352181</td>\n",
       "      <td>0.762192</td>\n",
       "    </tr>\n",
       "    <tr>\n",
       "      <th>1</th>\n",
       "      <td>15</td>\n",
       "      <td>20</td>\n",
       "      <td>-104077.776087</td>\n",
       "      <td>0.767168</td>\n",
       "    </tr>\n",
       "    <tr>\n",
       "      <th>2</th>\n",
       "      <td>15</td>\n",
       "      <td>30</td>\n",
       "      <td>-102992.388587</td>\n",
       "      <td>0.769598</td>\n",
       "    </tr>\n",
       "    <tr>\n",
       "      <th>3</th>\n",
       "      <td>10</td>\n",
       "      <td>10</td>\n",
       "      <td>-103924.321197</td>\n",
       "      <td>0.767564</td>\n",
       "    </tr>\n",
       "    <tr>\n",
       "      <th>4</th>\n",
       "      <td>10</td>\n",
       "      <td>20</td>\n",
       "      <td>-103218.794775</td>\n",
       "      <td>0.769149</td>\n",
       "    </tr>\n",
       "    <tr>\n",
       "      <th>5</th>\n",
       "      <td>10</td>\n",
       "      <td>30</td>\n",
       "      <td>-102368.980159</td>\n",
       "      <td>0.771106</td>\n",
       "    </tr>\n",
       "    <tr>\n",
       "      <th>6</th>\n",
       "      <td>25</td>\n",
       "      <td>10</td>\n",
       "      <td>-108091.970081</td>\n",
       "      <td>0.758372</td>\n",
       "    </tr>\n",
       "    <tr>\n",
       "      <th>7</th>\n",
       "      <td>25</td>\n",
       "      <td>20</td>\n",
       "      <td>-105046.798502</td>\n",
       "      <td>0.764987</td>\n",
       "    </tr>\n",
       "    <tr>\n",
       "      <th>8</th>\n",
       "      <td>25</td>\n",
       "      <td>30</td>\n",
       "      <td>-102952.495024</td>\n",
       "      <td>0.769606</td>\n",
       "    </tr>\n",
       "  </tbody>\n",
       "</table>\n",
       "</div>"
      ],
      "text/plain": [
       "  param_xgbregressor__max_depth param_xgbregressor__min_child_weight  \\\n",
       "0                            15                                   10   \n",
       "1                            15                                   20   \n",
       "2                            15                                   30   \n",
       "3                            10                                   10   \n",
       "4                            10                                   20   \n",
       "5                            10                                   30   \n",
       "6                            25                                   10   \n",
       "7                            25                                   20   \n",
       "8                            25                                   30   \n",
       "\n",
       "   mean_test_neg_mean_squared_error  mean_test_r2  \n",
       "0                    -106362.352181      0.762192  \n",
       "1                    -104077.776087      0.767168  \n",
       "2                    -102992.388587      0.769598  \n",
       "3                    -103924.321197      0.767564  \n",
       "4                    -103218.794775      0.769149  \n",
       "5                    -102368.980159      0.771106  \n",
       "6                    -108091.970081      0.758372  \n",
       "7                    -105046.798502      0.764987  \n",
       "8                    -102952.495024      0.769606  "
      ]
     },
     "execution_count": 262,
     "metadata": {},
     "output_type": "execute_result"
    }
   ],
   "source": [
    "warnings.filterwarnings('ignore')\n",
    "\n",
    "xg_result2 = pd.DataFrame(xg_grid2.cv_results_)[['param_xgbregressor__max_depth', \n",
    "                                                'param_xgbregressor__min_child_weight', \n",
    "                                                'mean_test_neg_mean_squared_error',\n",
    "                                                'mean_test_r2']]\n",
    "xg_result2"
   ]
  },
  {
   "cell_type": "markdown",
   "metadata": {},
   "source": [
    "- ohe = ['mo', 'fog', 'rain_drizzle', 'snow_ice_pellets', 'day_of_week', 'work', 'weekday']"
   ]
  },
  {
   "cell_type": "code",
   "execution_count": 263,
   "metadata": {},
   "outputs": [
    {
     "data": {
      "text/plain": [
       "Index(['passenger_count', 'pickup_longitude', 'pickup_latitude',\n",
       "       'dropoff_longitude', 'dropoff_latitude', 'mo', 'temp', 'visib', 'wdsp',\n",
       "       'gust', 'max', 'min', 'prcp', 'fog', 'rain_drizzle', 'snow_ice_pellets',\n",
       "       'haver_dist', 'man_dist', 'hour_of_day', 'day_of_week', 'work',\n",
       "       'weekday', 'pickup_cluster', 'dropoff_cluster', 'num_rides_pcluster',\n",
       "       'num_rides_dcluster', 'num_rides_ccluster'],\n",
       "      dtype='object')"
      ]
     },
     "execution_count": 263,
     "metadata": {},
     "output_type": "execute_result"
    }
   ],
   "source": [
    "X_test.columns"
   ]
  },
  {
   "cell_type": "code",
   "execution_count": 266,
   "metadata": {},
   "outputs": [],
   "source": [
    "ohe_cols = xg_grid2.best_estimator_.steps[0][1].named_transformers_['onehotencoder'].get_feature_names()\n",
    "tar_cols = xg_grid2.best_estimator_.steps[0][1].named_transformers_['targetencoder'].get_feature_names()\n",
    "num_cols = np.asarray(['passenger_count', 'pickup_longitude', 'pickup_latitude',\n",
    "       'dropoff_longitude', 'dropoff_latitude', 'temp', 'visib', 'wdsp', 'gust', 'max', 'min',\n",
    "                       'prcp','haver_dist', 'man_dist', 'num_rides_pcluster','num_rides_dcluster', \n",
    "                       'num_rides_ccluster'])\n",
    "xg2_featnames = np.concatenate((ohe_cols, tar_cols, num_cols), axis = None)\n",
    "xg2_coef = xg_grid2.best_estimator_.steps[1][1].feature_importances_"
   ]
  },
  {
   "cell_type": "code",
   "execution_count": 270,
   "metadata": {},
   "outputs": [
    {
     "data": {
      "image/png": "[encoded data removed]",
      "text/plain": [
       "<Figure size 720x360 with 1 Axes>"
      ]
     },
     "metadata": {
      "needs_background": "light"
     },
     "output_type": "display_data"
    }
   ],
   "source": [
    "plot_feat_imp(xg2_coef, xg2_featnames, \"xg + OHE + target\", top_features=20)"
   ]
  },
  {
   "cell_type": "markdown",
   "metadata": {},
   "source": [
    "- work\n",
    "- hour_of_day\n",
    "- num_rides_ccluster\n",
    "- dropoff latitude\n",
    "- mo\n",
    "- num_rides_dcluster"
   ]
  },
  {
   "cell_type": "markdown",
   "metadata": {},
   "source": [
    "# 7. RF + OHE + target"
   ]
  },
  {
   "cell_type": "code",
   "execution_count": 273,
   "metadata": {},
   "outputs": [
    {
     "name": "stdout",
     "output_type": "stream",
     "text": [
      "Test RMSE = 380.816943385318\n",
      "Test RMSLE = 0.4617778183147868\n",
      "Test R2 = 0.6934121546215966\n"
     ]
    },
    {
     "data": {
      "text/plain": [
       "(380.816943385318, 0.4617778183147868, 0.6934121546215966)"
      ]
     },
     "execution_count": 273,
     "metadata": {},
     "output_type": "execute_result"
    }
   ],
   "source": [
    "scores2(rf_grid1, X_test)"
   ]
  },
  {
   "cell_type": "code",
   "execution_count": 277,
   "metadata": {},
   "outputs": [
    {
     "data": {
      "text/html": [
       "<div>\n",
       "<style scoped>\n",
       "    .dataframe tbody tr th:only-of-type {\n",
       "        vertical-align: middle;\n",
       "    }\n",
       "\n",
       "    .dataframe tbody tr th {\n",
       "        vertical-align: top;\n",
       "    }\n",
       "\n",
       "    .dataframe thead th {\n",
       "        text-align: right;\n",
       "    }\n",
       "</style>\n",
       "<table border=\"1\" class=\"dataframe\">\n",
       "  <thead>\n",
       "    <tr style=\"text-align: right;\">\n",
       "      <th></th>\n",
       "      <th>param_randomforestregressor__max_features</th>\n",
       "      <th>param_randomforestregressor__n_estimators</th>\n",
       "      <th>mean_test_neg_mean_squared_error</th>\n",
       "      <th>mean_test_neg_mean_squared_log_error</th>\n",
       "      <th>mean_test_r2</th>\n",
       "    </tr>\n",
       "  </thead>\n",
       "  <tbody>\n",
       "    <tr>\n",
       "      <th>0</th>\n",
       "      <td>0.7</td>\n",
       "      <td>100</td>\n",
       "      <td>-108780.106365</td>\n",
       "      <td>-0.158181</td>\n",
       "      <td>0.756900</td>\n",
       "    </tr>\n",
       "    <tr>\n",
       "      <th>1</th>\n",
       "      <td>0.7</td>\n",
       "      <td>200</td>\n",
       "      <td>-108311.575508</td>\n",
       "      <td>-0.157426</td>\n",
       "      <td>0.757906</td>\n",
       "    </tr>\n",
       "    <tr>\n",
       "      <th>2</th>\n",
       "      <td>0.7</td>\n",
       "      <td>300</td>\n",
       "      <td>-108613.121181</td>\n",
       "      <td>-0.158415</td>\n",
       "      <td>0.757266</td>\n",
       "    </tr>\n",
       "    <tr>\n",
       "      <th>3</th>\n",
       "      <td>0.8</td>\n",
       "      <td>100</td>\n",
       "      <td>-109996.965066</td>\n",
       "      <td>-0.158432</td>\n",
       "      <td>0.753968</td>\n",
       "    </tr>\n",
       "    <tr>\n",
       "      <th>4</th>\n",
       "      <td>0.8</td>\n",
       "      <td>200</td>\n",
       "      <td>-110027.729652</td>\n",
       "      <td>-0.161279</td>\n",
       "      <td>0.754268</td>\n",
       "    </tr>\n",
       "    <tr>\n",
       "      <th>5</th>\n",
       "      <td>0.8</td>\n",
       "      <td>300</td>\n",
       "      <td>-109243.902910</td>\n",
       "      <td>-0.158631</td>\n",
       "      <td>0.755779</td>\n",
       "    </tr>\n",
       "    <tr>\n",
       "      <th>6</th>\n",
       "      <td>0.9</td>\n",
       "      <td>100</td>\n",
       "      <td>-111002.409712</td>\n",
       "      <td>-0.160654</td>\n",
       "      <td>0.751899</td>\n",
       "    </tr>\n",
       "    <tr>\n",
       "      <th>7</th>\n",
       "      <td>0.9</td>\n",
       "      <td>200</td>\n",
       "      <td>-110416.212409</td>\n",
       "      <td>-0.159462</td>\n",
       "      <td>0.753179</td>\n",
       "    </tr>\n",
       "    <tr>\n",
       "      <th>8</th>\n",
       "      <td>0.9</td>\n",
       "      <td>300</td>\n",
       "      <td>-109712.374797</td>\n",
       "      <td>-0.158679</td>\n",
       "      <td>0.754674</td>\n",
       "    </tr>\n",
       "  </tbody>\n",
       "</table>\n",
       "</div>"
      ],
      "text/plain": [
       "  param_randomforestregressor__max_features  \\\n",
       "0                                       0.7   \n",
       "1                                       0.7   \n",
       "2                                       0.7   \n",
       "3                                       0.8   \n",
       "4                                       0.8   \n",
       "5                                       0.8   \n",
       "6                                       0.9   \n",
       "7                                       0.9   \n",
       "8                                       0.9   \n",
       "\n",
       "  param_randomforestregressor__n_estimators  mean_test_neg_mean_squared_error  \\\n",
       "0                                       100                    -108780.106365   \n",
       "1                                       200                    -108311.575508   \n",
       "2                                       300                    -108613.121181   \n",
       "3                                       100                    -109996.965066   \n",
       "4                                       200                    -110027.729652   \n",
       "5                                       300                    -109243.902910   \n",
       "6                                       100                    -111002.409712   \n",
       "7                                       200                    -110416.212409   \n",
       "8                                       300                    -109712.374797   \n",
       "\n",
       "   mean_test_neg_mean_squared_log_error  mean_test_r2  \n",
       "0                             -0.158181      0.756900  \n",
       "1                             -0.157426      0.757906  \n",
       "2                             -0.158415      0.757266  \n",
       "3                             -0.158432      0.753968  \n",
       "4                             -0.161279      0.754268  \n",
       "5                             -0.158631      0.755779  \n",
       "6                             -0.160654      0.751899  \n",
       "7                             -0.159462      0.753179  \n",
       "8                             -0.158679      0.754674  "
      ]
     },
     "execution_count": 277,
     "metadata": {},
     "output_type": "execute_result"
    }
   ],
   "source": [
    "warnings.filterwarnings('ignore')\n",
    "\n",
    "rf_result1 = pd.DataFrame(rf_grid1.cv_results_)[['param_randomforestregressor__max_features', \n",
    "                                                'param_randomforestregressor__n_estimators', \n",
    "                                                'mean_test_neg_mean_squared_error', \n",
    "                                                'mean_test_neg_mean_squared_log_error',\n",
    "                                                'mean_test_r2']]\n",
    "rf_result1"
   ]
  },
  {
   "cell_type": "markdown",
   "metadata": {},
   "source": [
    "- ohe = ['mo', 'fog', 'rain_drizzle', 'snow_ice_pellets', 'day_of_week', 'work', 'weekday']"
   ]
  },
  {
   "cell_type": "code",
   "execution_count": 278,
   "metadata": {},
   "outputs": [],
   "source": [
    "ohe_cols = rf_grid1.best_estimator_.steps[0][1].named_transformers_['onehotencoder'].get_feature_names()\n",
    "tar_cols = rf_grid1.best_estimator_.steps[0][1].named_transformers_['targetencoder'].get_feature_names()\n",
    "num_cols = np.asarray(['passenger_count', 'pickup_longitude', 'pickup_latitude',\n",
    "       'dropoff_longitude', 'dropoff_latitude', 'temp', 'visib', 'wdsp', 'gust', 'max', 'min',\n",
    "                       'prcp','haver_dist', 'man_dist', 'num_rides_pcluster','num_rides_dcluster', \n",
    "                       'num_rides_ccluster'])\n",
    "rf1_featnames = np.concatenate((ohe_cols, tar_cols, num_cols), axis = None)\n",
    "rf1_coef = rf_grid1.best_estimator_.steps[1][1].feature_importances_"
   ]
  },
  {
   "cell_type": "code",
   "execution_count": 279,
   "metadata": {},
   "outputs": [
    {
     "data": {
      "image/png": "[encoded data removed]",
      "text/plain": [
       "<Figure size 720x360 with 1 Axes>"
      ]
     },
     "metadata": {
      "needs_background": "light"
     },
     "output_type": "display_data"
    }
   ],
   "source": [
    "plot_feat_imp(rf1_coef, rf1_featnames, \"RF + OHE + target\", top_features=20)"
   ]
  },
  {
   "cell_type": "markdown",
   "metadata": {},
   "source": [
    "- manhattan dist\n",
    "- dropoff latitude\n",
    "- pickup longitude\n",
    "- dropoff longitude\n",
    "- work\n",
    "- hour of day"
   ]
  },
  {
   "cell_type": "markdown",
   "metadata": {},
   "source": [
    "# plot\n",
    "- feature importance\n",
    "- relationship between cv score and parameters\n",
    "- comparison between models in different folds"
   ]
  },
  {
   "cell_type": "code",
   "execution_count": 280,
   "metadata": {},
   "outputs": [
    {
     "data": {
      "text/plain": [
       "Index(['passenger_count', 'pickup_longitude', 'pickup_latitude',\n",
       "       'dropoff_longitude', 'dropoff_latitude', 'mo', 'temp', 'visib', 'wdsp',\n",
       "       'gust', 'max', 'min', 'prcp', 'fog', 'rain_drizzle', 'snow_ice_pellets',\n",
       "       'haver_dist', 'man_dist', 'hour_of_day', 'day_of_week', 'work',\n",
       "       'weekday', 'pickup_cluster', 'dropoff_cluster', 'num_rides_pcluster',\n",
       "       'num_rides_dcluster', 'num_rides_ccluster'],\n",
       "      dtype='object')"
      ]
     },
     "execution_count": 280,
     "metadata": {},
     "output_type": "execute_result"
    }
   ],
   "source": [
    "X_train.columns"
   ]
  },
  {
   "cell_type": "code",
   "execution_count": null,
   "metadata": {},
   "outputs": [],
   "source": []
  }
 ],
 "metadata": {
  "kernelspec": {
   "display_name": "Python 3",
   "language": "python",
   "name": "python3"
  },
  "language_info": {
   "codemirror_mode": {
    "name": "ipython",
    "version": 3
   },
   "file_extension": ".py",
   "mimetype": "text/x-python",
   "name": "python",
   "nbconvert_exporter": "python",
   "pygments_lexer": "ipython3",
   "version": "3.7.2"
  }
 },
 "nbformat": 4,
 "nbformat_minor": 2
}
